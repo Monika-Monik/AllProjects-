{
  "nbformat": 4,
  "nbformat_minor": 0,
  "metadata": {
    "colab": {
      "provenance": [],
      "authorship_tag": "ABX9TyMBj/nDsFGPBGdgMgyS4SpR",
      "include_colab_link": true
    },
    "kernelspec": {
      "name": "python3",
      "display_name": "Python 3"
    },
    "language_info": {
      "name": "python"
    }
  },
  "cells": [
    {
      "cell_type": "markdown",
      "metadata": {
        "id": "view-in-github",
        "colab_type": "text"
      },
      "source": [
        "<a href=\"https://colab.research.google.com/github/Monika-Monik/AllProjects-/blob/main/Business_Case_Apollo_Hospitals_Hypothesis_Testing.ipynb\" target=\"_parent\"><img src=\"https://colab.research.google.com/assets/colab-badge.svg\" alt=\"Open In Colab\"/></a>"
      ]
    },
    {
      "cell_type": "markdown",
      "source": [
        "#**Import Libraries**"
      ],
      "metadata": {
        "id": "Ky0w_6XlutV6"
      }
    },
    {
      "cell_type": "code",
      "execution_count": null,
      "metadata": {
        "id": "MYioOW0efzni"
      },
      "outputs": [],
      "source": [
        "import numpy as np\n",
        "import pandas as pd\n",
        "import seaborn as sns \n",
        "import matplotlib.pyplot as plt\n",
        "from scipy import stats\n",
        "import scipy.stats\n",
        "from scipy.stats import shapiro,levene,f_oneway\n",
        "from sklearn.preprocessing import scale\n",
        "import warnings\n",
        "warnings.filterwarnings(\"ignore\")"
      ]
    },
    {
      "cell_type": "markdown",
      "source": [
        "#**Load data**"
      ],
      "metadata": {
        "id": "DHpGNAWYFUet"
      }
    },
    {
      "cell_type": "code",
      "source": [
        "df=pd.read_csv(\"/content/scaler_apollo_hospitals.csv\")\n",
        "df.head(2)"
      ],
      "metadata": {
        "colab": {
          "base_uri": "https://localhost:8080/",
          "height": 112
        },
        "id": "C0BIojWru_kp",
        "outputId": "bcdcf676-d3df-40a6-f16d-1e94f65b34b8"
      },
      "execution_count": null,
      "outputs": [
        {
          "output_type": "execute_result",
          "data": {
            "text/plain": [
              "   Unnamed: 0  age     sex smoker     region  viral load  severity level  \\\n",
              "0           0   19  female    yes  southwest        9.30               0   \n",
              "1           1   18    male     no  southeast       11.26               1   \n",
              "\n",
              "   hospitalization charges  \n",
              "0                    42212  \n",
              "1                     4314  "
            ],
            "text/html": [
              "\n",
              "  <div id=\"df-a5903343-1859-4647-ac64-7eaae9630a1d\">\n",
              "    <div class=\"colab-df-container\">\n",
              "      <div>\n",
              "<style scoped>\n",
              "    .dataframe tbody tr th:only-of-type {\n",
              "        vertical-align: middle;\n",
              "    }\n",
              "\n",
              "    .dataframe tbody tr th {\n",
              "        vertical-align: top;\n",
              "    }\n",
              "\n",
              "    .dataframe thead th {\n",
              "        text-align: right;\n",
              "    }\n",
              "</style>\n",
              "<table border=\"1\" class=\"dataframe\">\n",
              "  <thead>\n",
              "    <tr style=\"text-align: right;\">\n",
              "      <th></th>\n",
              "      <th>Unnamed: 0</th>\n",
              "      <th>age</th>\n",
              "      <th>sex</th>\n",
              "      <th>smoker</th>\n",
              "      <th>region</th>\n",
              "      <th>viral load</th>\n",
              "      <th>severity level</th>\n",
              "      <th>hospitalization charges</th>\n",
              "    </tr>\n",
              "  </thead>\n",
              "  <tbody>\n",
              "    <tr>\n",
              "      <th>0</th>\n",
              "      <td>0</td>\n",
              "      <td>19</td>\n",
              "      <td>female</td>\n",
              "      <td>yes</td>\n",
              "      <td>southwest</td>\n",
              "      <td>9.30</td>\n",
              "      <td>0</td>\n",
              "      <td>42212</td>\n",
              "    </tr>\n",
              "    <tr>\n",
              "      <th>1</th>\n",
              "      <td>1</td>\n",
              "      <td>18</td>\n",
              "      <td>male</td>\n",
              "      <td>no</td>\n",
              "      <td>southeast</td>\n",
              "      <td>11.26</td>\n",
              "      <td>1</td>\n",
              "      <td>4314</td>\n",
              "    </tr>\n",
              "  </tbody>\n",
              "</table>\n",
              "</div>\n",
              "      <button class=\"colab-df-convert\" onclick=\"convertToInteractive('df-a5903343-1859-4647-ac64-7eaae9630a1d')\"\n",
              "              title=\"Convert this dataframe to an interactive table.\"\n",
              "              style=\"display:none;\">\n",
              "        \n",
              "  <svg xmlns=\"http://www.w3.org/2000/svg\" height=\"24px\"viewBox=\"0 0 24 24\"\n",
              "       width=\"24px\">\n",
              "    <path d=\"M0 0h24v24H0V0z\" fill=\"none\"/>\n",
              "    <path d=\"M18.56 5.44l.94 2.06.94-2.06 2.06-.94-2.06-.94-.94-2.06-.94 2.06-2.06.94zm-11 1L8.5 8.5l.94-2.06 2.06-.94-2.06-.94L8.5 2.5l-.94 2.06-2.06.94zm10 10l.94 2.06.94-2.06 2.06-.94-2.06-.94-.94-2.06-.94 2.06-2.06.94z\"/><path d=\"M17.41 7.96l-1.37-1.37c-.4-.4-.92-.59-1.43-.59-.52 0-1.04.2-1.43.59L10.3 9.45l-7.72 7.72c-.78.78-.78 2.05 0 2.83L4 21.41c.39.39.9.59 1.41.59.51 0 1.02-.2 1.41-.59l7.78-7.78 2.81-2.81c.8-.78.8-2.07 0-2.86zM5.41 20L4 18.59l7.72-7.72 1.47 1.35L5.41 20z\"/>\n",
              "  </svg>\n",
              "      </button>\n",
              "      \n",
              "  <style>\n",
              "    .colab-df-container {\n",
              "      display:flex;\n",
              "      flex-wrap:wrap;\n",
              "      gap: 12px;\n",
              "    }\n",
              "\n",
              "    .colab-df-convert {\n",
              "      background-color: #E8F0FE;\n",
              "      border: none;\n",
              "      border-radius: 50%;\n",
              "      cursor: pointer;\n",
              "      display: none;\n",
              "      fill: #1967D2;\n",
              "      height: 32px;\n",
              "      padding: 0 0 0 0;\n",
              "      width: 32px;\n",
              "    }\n",
              "\n",
              "    .colab-df-convert:hover {\n",
              "      background-color: #E2EBFA;\n",
              "      box-shadow: 0px 1px 2px rgba(60, 64, 67, 0.3), 0px 1px 3px 1px rgba(60, 64, 67, 0.15);\n",
              "      fill: #174EA6;\n",
              "    }\n",
              "\n",
              "    [theme=dark] .colab-df-convert {\n",
              "      background-color: #3B4455;\n",
              "      fill: #D2E3FC;\n",
              "    }\n",
              "\n",
              "    [theme=dark] .colab-df-convert:hover {\n",
              "      background-color: #434B5C;\n",
              "      box-shadow: 0px 1px 3px 1px rgba(0, 0, 0, 0.15);\n",
              "      filter: drop-shadow(0px 1px 2px rgba(0, 0, 0, 0.3));\n",
              "      fill: #FFFFFF;\n",
              "    }\n",
              "  </style>\n",
              "\n",
              "      <script>\n",
              "        const buttonEl =\n",
              "          document.querySelector('#df-a5903343-1859-4647-ac64-7eaae9630a1d button.colab-df-convert');\n",
              "        buttonEl.style.display =\n",
              "          google.colab.kernel.accessAllowed ? 'block' : 'none';\n",
              "\n",
              "        async function convertToInteractive(key) {\n",
              "          const element = document.querySelector('#df-a5903343-1859-4647-ac64-7eaae9630a1d');\n",
              "          const dataTable =\n",
              "            await google.colab.kernel.invokeFunction('convertToInteractive',\n",
              "                                                     [key], {});\n",
              "          if (!dataTable) return;\n",
              "\n",
              "          const docLinkHtml = 'Like what you see? Visit the ' +\n",
              "            '<a target=\"_blank\" href=https://colab.research.google.com/notebooks/data_table.ipynb>data table notebook</a>'\n",
              "            + ' to learn more about interactive tables.';\n",
              "          element.innerHTML = '';\n",
              "          dataTable['output_type'] = 'display_data';\n",
              "          await google.colab.output.renderOutput(dataTable, element);\n",
              "          const docLink = document.createElement('div');\n",
              "          docLink.innerHTML = docLinkHtml;\n",
              "          element.appendChild(docLink);\n",
              "        }\n",
              "      </script>\n",
              "    </div>\n",
              "  </div>\n",
              "  "
            ]
          },
          "metadata": {},
          "execution_count": 20
        }
      ]
    },
    {
      "cell_type": "code",
      "source": [
        "df.info()"
      ],
      "metadata": {
        "colab": {
          "base_uri": "https://localhost:8080/"
        },
        "id": "_zbF2Oxfv0Pr",
        "outputId": "2ea124aa-f2d7-4736-a4cb-fb6e8ce5f7b6"
      },
      "execution_count": null,
      "outputs": [
        {
          "output_type": "stream",
          "name": "stdout",
          "text": [
            "<class 'pandas.core.frame.DataFrame'>\n",
            "RangeIndex: 1338 entries, 0 to 1337\n",
            "Data columns (total 8 columns):\n",
            " #   Column                   Non-Null Count  Dtype  \n",
            "---  ------                   --------------  -----  \n",
            " 0   Unnamed: 0               1338 non-null   int64  \n",
            " 1   age                      1338 non-null   int64  \n",
            " 2   sex                      1338 non-null   object \n",
            " 3   smoker                   1338 non-null   object \n",
            " 4   region                   1338 non-null   object \n",
            " 5   viral load               1338 non-null   float64\n",
            " 6   severity level           1338 non-null   int64  \n",
            " 7   hospitalization charges  1338 non-null   int64  \n",
            "dtypes: float64(1), int64(4), object(3)\n",
            "memory usage: 83.8+ KB\n"
          ]
        }
      ]
    },
    {
      "cell_type": "markdown",
      "source": [
        "#**Remove columns which is not required**"
      ],
      "metadata": {
        "id": "DyfFQkZiFeHX"
      }
    },
    {
      "cell_type": "code",
      "source": [
        "df.drop(['Unnamed: 0'],axis=1,inplace=True)"
      ],
      "metadata": {
        "id": "a5CZH1EivEfa"
      },
      "execution_count": null,
      "outputs": []
    },
    {
      "cell_type": "code",
      "source": [
        "df.columns"
      ],
      "metadata": {
        "colab": {
          "base_uri": "https://localhost:8080/"
        },
        "id": "JNcu3cXsvRl4",
        "outputId": "5a26ffa7-a49e-46e9-f7ea-66253945afb2"
      },
      "execution_count": null,
      "outputs": [
        {
          "output_type": "execute_result",
          "data": {
            "text/plain": [
              "Index(['age', 'sex', 'smoker', 'region', 'viral load', 'severity level',\n",
              "       'hospitalization charges'],\n",
              "      dtype='object')"
            ]
          },
          "metadata": {},
          "execution_count": 23
        }
      ]
    },
    {
      "cell_type": "code",
      "source": [
        "df.shape"
      ],
      "metadata": {
        "colab": {
          "base_uri": "https://localhost:8080/"
        },
        "id": "dC45yZ0hvh5G",
        "outputId": "70b98438-b5ed-46ed-8f03-1dff262f3ec5"
      },
      "execution_count": null,
      "outputs": [
        {
          "output_type": "execute_result",
          "data": {
            "text/plain": [
              "(1338, 7)"
            ]
          },
          "metadata": {},
          "execution_count": 24
        }
      ]
    },
    {
      "cell_type": "markdown",
      "source": [
        "**Required check before data analysis**"
      ],
      "metadata": {
        "id": "YqgwnRxrGB0N"
      }
    },
    {
      "cell_type": "code",
      "source": [
        "total_null = df.isnull().sum().sort_values(ascending = False)\n",
        "print(f\"Total records in (Apollo_Hospital.csv) = {df.shape[0]} where missing values are as follows:\")\n",
        "missing_data = pd.concat([total_null],axis=1,keys=['Total Missing'])\n",
        "missing_data"
      ],
      "metadata": {
        "colab": {
          "base_uri": "https://localhost:8080/",
          "height": 286
        },
        "id": "Mz7eNgfFw9Dn",
        "outputId": "acf5a0a6-028f-4c05-db55-22ad7cf44d77"
      },
      "execution_count": null,
      "outputs": [
        {
          "output_type": "stream",
          "name": "stdout",
          "text": [
            "Total records in (Apollo_Hospital.csv) = 1338 where missing values are as follows:\n"
          ]
        },
        {
          "output_type": "execute_result",
          "data": {
            "text/plain": [
              "                         Total Missing\n",
              "age                                  0\n",
              "sex                                  0\n",
              "smoker                               0\n",
              "region                               0\n",
              "viral_load                           0\n",
              "severity_level                       0\n",
              "hospitalization_charges              0"
            ],
            "text/html": [
              "\n",
              "  <div id=\"df-a7cc9b8c-5ba6-40cc-979e-f189ff3102e6\">\n",
              "    <div class=\"colab-df-container\">\n",
              "      <div>\n",
              "<style scoped>\n",
              "    .dataframe tbody tr th:only-of-type {\n",
              "        vertical-align: middle;\n",
              "    }\n",
              "\n",
              "    .dataframe tbody tr th {\n",
              "        vertical-align: top;\n",
              "    }\n",
              "\n",
              "    .dataframe thead th {\n",
              "        text-align: right;\n",
              "    }\n",
              "</style>\n",
              "<table border=\"1\" class=\"dataframe\">\n",
              "  <thead>\n",
              "    <tr style=\"text-align: right;\">\n",
              "      <th></th>\n",
              "      <th>Total Missing</th>\n",
              "    </tr>\n",
              "  </thead>\n",
              "  <tbody>\n",
              "    <tr>\n",
              "      <th>age</th>\n",
              "      <td>0</td>\n",
              "    </tr>\n",
              "    <tr>\n",
              "      <th>sex</th>\n",
              "      <td>0</td>\n",
              "    </tr>\n",
              "    <tr>\n",
              "      <th>smoker</th>\n",
              "      <td>0</td>\n",
              "    </tr>\n",
              "    <tr>\n",
              "      <th>region</th>\n",
              "      <td>0</td>\n",
              "    </tr>\n",
              "    <tr>\n",
              "      <th>viral_load</th>\n",
              "      <td>0</td>\n",
              "    </tr>\n",
              "    <tr>\n",
              "      <th>severity_level</th>\n",
              "      <td>0</td>\n",
              "    </tr>\n",
              "    <tr>\n",
              "      <th>hospitalization_charges</th>\n",
              "      <td>0</td>\n",
              "    </tr>\n",
              "  </tbody>\n",
              "</table>\n",
              "</div>\n",
              "      <button class=\"colab-df-convert\" onclick=\"convertToInteractive('df-a7cc9b8c-5ba6-40cc-979e-f189ff3102e6')\"\n",
              "              title=\"Convert this dataframe to an interactive table.\"\n",
              "              style=\"display:none;\">\n",
              "        \n",
              "  <svg xmlns=\"http://www.w3.org/2000/svg\" height=\"24px\"viewBox=\"0 0 24 24\"\n",
              "       width=\"24px\">\n",
              "    <path d=\"M0 0h24v24H0V0z\" fill=\"none\"/>\n",
              "    <path d=\"M18.56 5.44l.94 2.06.94-2.06 2.06-.94-2.06-.94-.94-2.06-.94 2.06-2.06.94zm-11 1L8.5 8.5l.94-2.06 2.06-.94-2.06-.94L8.5 2.5l-.94 2.06-2.06.94zm10 10l.94 2.06.94-2.06 2.06-.94-2.06-.94-.94-2.06-.94 2.06-2.06.94z\"/><path d=\"M17.41 7.96l-1.37-1.37c-.4-.4-.92-.59-1.43-.59-.52 0-1.04.2-1.43.59L10.3 9.45l-7.72 7.72c-.78.78-.78 2.05 0 2.83L4 21.41c.39.39.9.59 1.41.59.51 0 1.02-.2 1.41-.59l7.78-7.78 2.81-2.81c.8-.78.8-2.07 0-2.86zM5.41 20L4 18.59l7.72-7.72 1.47 1.35L5.41 20z\"/>\n",
              "  </svg>\n",
              "      </button>\n",
              "      \n",
              "  <style>\n",
              "    .colab-df-container {\n",
              "      display:flex;\n",
              "      flex-wrap:wrap;\n",
              "      gap: 12px;\n",
              "    }\n",
              "\n",
              "    .colab-df-convert {\n",
              "      background-color: #E8F0FE;\n",
              "      border: none;\n",
              "      border-radius: 50%;\n",
              "      cursor: pointer;\n",
              "      display: none;\n",
              "      fill: #1967D2;\n",
              "      height: 32px;\n",
              "      padding: 0 0 0 0;\n",
              "      width: 32px;\n",
              "    }\n",
              "\n",
              "    .colab-df-convert:hover {\n",
              "      background-color: #E2EBFA;\n",
              "      box-shadow: 0px 1px 2px rgba(60, 64, 67, 0.3), 0px 1px 3px 1px rgba(60, 64, 67, 0.15);\n",
              "      fill: #174EA6;\n",
              "    }\n",
              "\n",
              "    [theme=dark] .colab-df-convert {\n",
              "      background-color: #3B4455;\n",
              "      fill: #D2E3FC;\n",
              "    }\n",
              "\n",
              "    [theme=dark] .colab-df-convert:hover {\n",
              "      background-color: #434B5C;\n",
              "      box-shadow: 0px 1px 3px 1px rgba(0, 0, 0, 0.15);\n",
              "      filter: drop-shadow(0px 1px 2px rgba(0, 0, 0, 0.3));\n",
              "      fill: #FFFFFF;\n",
              "    }\n",
              "  </style>\n",
              "\n",
              "      <script>\n",
              "        const buttonEl =\n",
              "          document.querySelector('#df-a7cc9b8c-5ba6-40cc-979e-f189ff3102e6 button.colab-df-convert');\n",
              "        buttonEl.style.display =\n",
              "          google.colab.kernel.accessAllowed ? 'block' : 'none';\n",
              "\n",
              "        async function convertToInteractive(key) {\n",
              "          const element = document.querySelector('#df-a7cc9b8c-5ba6-40cc-979e-f189ff3102e6');\n",
              "          const dataTable =\n",
              "            await google.colab.kernel.invokeFunction('convertToInteractive',\n",
              "                                                     [key], {});\n",
              "          if (!dataTable) return;\n",
              "\n",
              "          const docLinkHtml = 'Like what you see? Visit the ' +\n",
              "            '<a target=\"_blank\" href=https://colab.research.google.com/notebooks/data_table.ipynb>data table notebook</a>'\n",
              "            + ' to learn more about interactive tables.';\n",
              "          element.innerHTML = '';\n",
              "          dataTable['output_type'] = 'display_data';\n",
              "          await google.colab.output.renderOutput(dataTable, element);\n",
              "          const docLink = document.createElement('div');\n",
              "          docLink.innerHTML = docLinkHtml;\n",
              "          element.appendChild(docLink);\n",
              "        }\n",
              "      </script>\n",
              "    </div>\n",
              "  </div>\n",
              "  "
            ]
          },
          "metadata": {},
          "execution_count": 63
        }
      ]
    },
    {
      "cell_type": "markdown",
      "source": [
        "***Non-Graphical Analysis: Value counts***"
      ],
      "metadata": {
        "id": "X7Ql1No_OkC_"
      }
    },
    {
      "cell_type": "code",
      "source": [
        "df['smoker'].value_counts()"
      ],
      "metadata": {
        "colab": {
          "base_uri": "https://localhost:8080/"
        },
        "id": "_f_q8NjTOkoP",
        "outputId": "b18a3e68-e95c-4361-aeae-41b5518a0d70"
      },
      "execution_count": null,
      "outputs": [
        {
          "output_type": "execute_result",
          "data": {
            "text/plain": [
              "no     1064\n",
              "yes     274\n",
              "Name: smoker, dtype: int64"
            ]
          },
          "metadata": {},
          "execution_count": 70
        }
      ]
    },
    {
      "cell_type": "code",
      "source": [
        "df['region'].value_counts()"
      ],
      "metadata": {
        "colab": {
          "base_uri": "https://localhost:8080/"
        },
        "id": "N9OTTb9wGUAJ",
        "outputId": "9016c6e2-c5d7-44aa-8dda-0a40f0cbb7c6"
      },
      "execution_count": null,
      "outputs": [
        {
          "output_type": "execute_result",
          "data": {
            "text/plain": [
              "southeast    364\n",
              "southwest    325\n",
              "northwest    325\n",
              "northeast    324\n",
              "Name: region, dtype: int64"
            ]
          },
          "metadata": {},
          "execution_count": 71
        }
      ]
    },
    {
      "cell_type": "code",
      "source": [
        "df['severity_level'].value_counts()"
      ],
      "metadata": {
        "colab": {
          "base_uri": "https://localhost:8080/"
        },
        "id": "z3fHzCL2GZ4Y",
        "outputId": "a7eeab89-37a6-480e-f663-ea130befa64a"
      },
      "execution_count": null,
      "outputs": [
        {
          "output_type": "execute_result",
          "data": {
            "text/plain": [
              "0    574\n",
              "1    324\n",
              "2    240\n",
              "3    157\n",
              "4     25\n",
              "5     18\n",
              "Name: severity_level, dtype: int64"
            ]
          },
          "metadata": {},
          "execution_count": 72
        }
      ]
    },
    {
      "cell_type": "code",
      "source": [
        "df['sex'].value_counts()"
      ],
      "metadata": {
        "colab": {
          "base_uri": "https://localhost:8080/"
        },
        "id": "KLluTdoWMgIO",
        "outputId": "64d0fb52-0c1e-4ac7-9e51-8a00492fd8e7"
      },
      "execution_count": null,
      "outputs": [
        {
          "output_type": "execute_result",
          "data": {
            "text/plain": [
              "male      676\n",
              "female    662\n",
              "Name: sex, dtype: int64"
            ]
          },
          "metadata": {},
          "execution_count": 75
        }
      ]
    },
    {
      "cell_type": "markdown",
      "source": [
        "**INSIGHT**: There are less smoker overall and female is less as compared to male."
      ],
      "metadata": {
        "id": "DnA_Er_VMv8H"
      }
    },
    {
      "cell_type": "markdown",
      "source": [
        "**Non-Graphical Analysis: Unique attributes ​​**"
      ],
      "metadata": {
        "id": "y-87Of73OuK0"
      }
    },
    {
      "cell_type": "code",
      "source": [
        "df.nunique()"
      ],
      "metadata": {
        "colab": {
          "base_uri": "https://localhost:8080/"
        },
        "id": "VZYrwCbUOupJ",
        "outputId": "5749c738-3fb6-4df9-8170-d590d4496300"
      },
      "execution_count": null,
      "outputs": [
        {
          "output_type": "execute_result",
          "data": {
            "text/plain": [
              "age                          47\n",
              "sex                           2\n",
              "smoker                        2\n",
              "region                        4\n",
              "viral_load                  462\n",
              "severity_level                6\n",
              "hospitalization_charges    1320\n",
              "dtype: int64"
            ]
          },
          "metadata": {},
          "execution_count": 73
        }
      ]
    },
    {
      "cell_type": "markdown",
      "source": [
        "**INSIGHT:** No missing value present in the data"
      ],
      "metadata": {
        "id": "-C6jdMOIO4E_"
      }
    },
    {
      "cell_type": "markdown",
      "source": [
        "**Rename the column name**"
      ],
      "metadata": {
        "id": "7bhXHfMcVUTk"
      }
    },
    {
      "cell_type": "code",
      "source": [
        "df.rename(columns={'viral load':'viral_load','severity level':'severity_level','hospitalization charges':'hospitalization_charges'},inplace=True)"
      ],
      "metadata": {
        "id": "GAV7Ffcar7fN"
      },
      "execution_count": null,
      "outputs": []
    },
    {
      "cell_type": "markdown",
      "source": [
        "**Statistical summary**"
      ],
      "metadata": {
        "id": "-SWgrLZ1O_Ty"
      }
    },
    {
      "cell_type": "code",
      "source": [
        "df.describe()"
      ],
      "metadata": {
        "colab": {
          "base_uri": "https://localhost:8080/",
          "height": 300
        },
        "id": "ahJZje--vwLd",
        "outputId": "f315a38e-0d60-4810-9158-359924578f9b"
      },
      "execution_count": null,
      "outputs": [
        {
          "output_type": "execute_result",
          "data": {
            "text/plain": [
              "               age   viral load  severity level  hospitalization charges\n",
              "count  1338.000000  1338.000000     1338.000000              1338.000000\n",
              "mean     39.207025    10.221233        1.094918             33176.058296\n",
              "std      14.049960     2.032796        1.205493             30275.029296\n",
              "min      18.000000     5.320000        0.000000              2805.000000\n",
              "25%      27.000000     8.762500        0.000000             11851.000000\n",
              "50%      39.000000    10.130000        1.000000             23455.000000\n",
              "75%      51.000000    11.567500        2.000000             41599.500000\n",
              "max      64.000000    17.710000        5.000000            159426.000000"
            ],
            "text/html": [
              "\n",
              "  <div id=\"df-f6753b73-9dbe-4d23-9b8a-b317e7d5dd48\">\n",
              "    <div class=\"colab-df-container\">\n",
              "      <div>\n",
              "<style scoped>\n",
              "    .dataframe tbody tr th:only-of-type {\n",
              "        vertical-align: middle;\n",
              "    }\n",
              "\n",
              "    .dataframe tbody tr th {\n",
              "        vertical-align: top;\n",
              "    }\n",
              "\n",
              "    .dataframe thead th {\n",
              "        text-align: right;\n",
              "    }\n",
              "</style>\n",
              "<table border=\"1\" class=\"dataframe\">\n",
              "  <thead>\n",
              "    <tr style=\"text-align: right;\">\n",
              "      <th></th>\n",
              "      <th>age</th>\n",
              "      <th>viral load</th>\n",
              "      <th>severity level</th>\n",
              "      <th>hospitalization charges</th>\n",
              "    </tr>\n",
              "  </thead>\n",
              "  <tbody>\n",
              "    <tr>\n",
              "      <th>count</th>\n",
              "      <td>1338.000000</td>\n",
              "      <td>1338.000000</td>\n",
              "      <td>1338.000000</td>\n",
              "      <td>1338.000000</td>\n",
              "    </tr>\n",
              "    <tr>\n",
              "      <th>mean</th>\n",
              "      <td>39.207025</td>\n",
              "      <td>10.221233</td>\n",
              "      <td>1.094918</td>\n",
              "      <td>33176.058296</td>\n",
              "    </tr>\n",
              "    <tr>\n",
              "      <th>std</th>\n",
              "      <td>14.049960</td>\n",
              "      <td>2.032796</td>\n",
              "      <td>1.205493</td>\n",
              "      <td>30275.029296</td>\n",
              "    </tr>\n",
              "    <tr>\n",
              "      <th>min</th>\n",
              "      <td>18.000000</td>\n",
              "      <td>5.320000</td>\n",
              "      <td>0.000000</td>\n",
              "      <td>2805.000000</td>\n",
              "    </tr>\n",
              "    <tr>\n",
              "      <th>25%</th>\n",
              "      <td>27.000000</td>\n",
              "      <td>8.762500</td>\n",
              "      <td>0.000000</td>\n",
              "      <td>11851.000000</td>\n",
              "    </tr>\n",
              "    <tr>\n",
              "      <th>50%</th>\n",
              "      <td>39.000000</td>\n",
              "      <td>10.130000</td>\n",
              "      <td>1.000000</td>\n",
              "      <td>23455.000000</td>\n",
              "    </tr>\n",
              "    <tr>\n",
              "      <th>75%</th>\n",
              "      <td>51.000000</td>\n",
              "      <td>11.567500</td>\n",
              "      <td>2.000000</td>\n",
              "      <td>41599.500000</td>\n",
              "    </tr>\n",
              "    <tr>\n",
              "      <th>max</th>\n",
              "      <td>64.000000</td>\n",
              "      <td>17.710000</td>\n",
              "      <td>5.000000</td>\n",
              "      <td>159426.000000</td>\n",
              "    </tr>\n",
              "  </tbody>\n",
              "</table>\n",
              "</div>\n",
              "      <button class=\"colab-df-convert\" onclick=\"convertToInteractive('df-f6753b73-9dbe-4d23-9b8a-b317e7d5dd48')\"\n",
              "              title=\"Convert this dataframe to an interactive table.\"\n",
              "              style=\"display:none;\">\n",
              "        \n",
              "  <svg xmlns=\"http://www.w3.org/2000/svg\" height=\"24px\"viewBox=\"0 0 24 24\"\n",
              "       width=\"24px\">\n",
              "    <path d=\"M0 0h24v24H0V0z\" fill=\"none\"/>\n",
              "    <path d=\"M18.56 5.44l.94 2.06.94-2.06 2.06-.94-2.06-.94-.94-2.06-.94 2.06-2.06.94zm-11 1L8.5 8.5l.94-2.06 2.06-.94-2.06-.94L8.5 2.5l-.94 2.06-2.06.94zm10 10l.94 2.06.94-2.06 2.06-.94-2.06-.94-.94-2.06-.94 2.06-2.06.94z\"/><path d=\"M17.41 7.96l-1.37-1.37c-.4-.4-.92-.59-1.43-.59-.52 0-1.04.2-1.43.59L10.3 9.45l-7.72 7.72c-.78.78-.78 2.05 0 2.83L4 21.41c.39.39.9.59 1.41.59.51 0 1.02-.2 1.41-.59l7.78-7.78 2.81-2.81c.8-.78.8-2.07 0-2.86zM5.41 20L4 18.59l7.72-7.72 1.47 1.35L5.41 20z\"/>\n",
              "  </svg>\n",
              "      </button>\n",
              "      \n",
              "  <style>\n",
              "    .colab-df-container {\n",
              "      display:flex;\n",
              "      flex-wrap:wrap;\n",
              "      gap: 12px;\n",
              "    }\n",
              "\n",
              "    .colab-df-convert {\n",
              "      background-color: #E8F0FE;\n",
              "      border: none;\n",
              "      border-radius: 50%;\n",
              "      cursor: pointer;\n",
              "      display: none;\n",
              "      fill: #1967D2;\n",
              "      height: 32px;\n",
              "      padding: 0 0 0 0;\n",
              "      width: 32px;\n",
              "    }\n",
              "\n",
              "    .colab-df-convert:hover {\n",
              "      background-color: #E2EBFA;\n",
              "      box-shadow: 0px 1px 2px rgba(60, 64, 67, 0.3), 0px 1px 3px 1px rgba(60, 64, 67, 0.15);\n",
              "      fill: #174EA6;\n",
              "    }\n",
              "\n",
              "    [theme=dark] .colab-df-convert {\n",
              "      background-color: #3B4455;\n",
              "      fill: #D2E3FC;\n",
              "    }\n",
              "\n",
              "    [theme=dark] .colab-df-convert:hover {\n",
              "      background-color: #434B5C;\n",
              "      box-shadow: 0px 1px 3px 1px rgba(0, 0, 0, 0.15);\n",
              "      filter: drop-shadow(0px 1px 2px rgba(0, 0, 0, 0.3));\n",
              "      fill: #FFFFFF;\n",
              "    }\n",
              "  </style>\n",
              "\n",
              "      <script>\n",
              "        const buttonEl =\n",
              "          document.querySelector('#df-f6753b73-9dbe-4d23-9b8a-b317e7d5dd48 button.colab-df-convert');\n",
              "        buttonEl.style.display =\n",
              "          google.colab.kernel.accessAllowed ? 'block' : 'none';\n",
              "\n",
              "        async function convertToInteractive(key) {\n",
              "          const element = document.querySelector('#df-f6753b73-9dbe-4d23-9b8a-b317e7d5dd48');\n",
              "          const dataTable =\n",
              "            await google.colab.kernel.invokeFunction('convertToInteractive',\n",
              "                                                     [key], {});\n",
              "          if (!dataTable) return;\n",
              "\n",
              "          const docLinkHtml = 'Like what you see? Visit the ' +\n",
              "            '<a target=\"_blank\" href=https://colab.research.google.com/notebooks/data_table.ipynb>data table notebook</a>'\n",
              "            + ' to learn more about interactive tables.';\n",
              "          element.innerHTML = '';\n",
              "          dataTable['output_type'] = 'display_data';\n",
              "          await google.colab.output.renderOutput(dataTable, element);\n",
              "          const docLink = document.createElement('div');\n",
              "          docLink.innerHTML = docLinkHtml;\n",
              "          element.appendChild(docLink);\n",
              "        }\n",
              "      </script>\n",
              "    </div>\n",
              "  </div>\n",
              "  "
            ]
          },
          "metadata": {},
          "execution_count": 30
        }
      ]
    },
    {
      "cell_type": "markdown",
      "source": [
        "**Correlation among different factors using heat map**"
      ],
      "metadata": {
        "id": "CCcQIL_cPEr9"
      }
    },
    {
      "cell_type": "code",
      "source": [
        "plt.figure(figsize=(12,6))\n",
        "sns.heatmap(df.corr(),cmap='coolwarm',annot=True,linecolor='white',linewidths=1)"
      ],
      "metadata": {
        "colab": {
          "base_uri": "https://localhost:8080/",
          "height": 395
        },
        "id": "O46GkvcMPFEU",
        "outputId": "0e972f71-ac0c-4ced-b501-44be96a593d2"
      },
      "execution_count": null,
      "outputs": [
        {
          "output_type": "execute_result",
          "data": {
            "text/plain": [
              "<matplotlib.axes._subplots.AxesSubplot at 0x7fad479f7d30>"
            ]
          },
          "metadata": {},
          "execution_count": 31
        },
        {
          "output_type": "display_data",
          "data": {
            "text/plain": [
              "<Figure size 864x432 with 2 Axes>"
            ],
            "image/png": "[encoded data removed]"
          },
          "metadata": {
            "needs_background": "light"
          }
        }
      ]
    },
    {
      "cell_type": "markdown",
      "source": [
        "# **Univariante Analysis**"
      ],
      "metadata": {
        "id": "7qZsX0_OROeV"
      }
    },
    {
      "cell_type": "code",
      "source": [
        "# count plot on single categorical variable\n",
        "plt.figure(figsize=(12,6))\n",
        "plt.title('Distribution of males/females')\n",
        "sns.countplot(x ='sex', data = df)\n",
        "plt.show()"
      ],
      "metadata": {
        "colab": {
          "base_uri": "https://localhost:8080/",
          "height": 404
        },
        "id": "g-yR_kFfRTaL",
        "outputId": "d5017bcf-8837-4dad-9b97-46ceea8818a0"
      },
      "execution_count": null,
      "outputs": [
        {
          "output_type": "display_data",
          "data": {
            "text/plain": [
              "<Figure size 864x432 with 1 Axes>"
            ],
            "image/png": "[encoded data removed]"
          },
          "metadata": {
            "needs_background": "light"
          }
        }
      ]
    },
    {
      "cell_type": "markdown",
      "source": [
        "**INSIGHT**:The proportion of female is less than the male"
      ],
      "metadata": {
        "id": "cRzrxZDiSAC-"
      }
    },
    {
      "cell_type": "code",
      "source": [
        "# count plot on single categorical variable\n",
        "plt.figure(figsize=(12,6))\n",
        "plt.title('Distribution of smoker')\n",
        "sns.countplot(x ='smoker', data = df)\n",
        "plt.show()"
      ],
      "metadata": {
        "colab": {
          "base_uri": "https://localhost:8080/",
          "height": 404
        },
        "id": "mGKP7jf4R83j",
        "outputId": "58a77d93-b8d7-4ee5-8231-37d193b6253a"
      },
      "execution_count": null,
      "outputs": [
        {
          "output_type": "display_data",
          "data": {
            "text/plain": [
              "<Figure size 864x432 with 1 Axes>"
            ],
            "image/png": "[encoded data removed]"
          },
          "metadata": {
            "needs_background": "light"
          }
        }
      ]
    },
    {
      "cell_type": "markdown",
      "source": [
        "**INSIGHT:** Number of smoker is very less as compared to non-smoker"
      ],
      "metadata": {
        "id": "VMLMiSEbSPVz"
      }
    },
    {
      "cell_type": "code",
      "source": [
        "# count plot on single categorical variable\n",
        "plt.figure(figsize=(12,5))\n",
        "plt.title('Region wise patients')\n",
        "df['region'].value_counts().plot.pie(autopct='%1.1f%%',shadow = True)\n",
        "# Show the plot\n",
        "plt.show()"
      ],
      "metadata": {
        "colab": {
          "base_uri": "https://localhost:8080/",
          "height": 319
        },
        "id": "ksGfz6w3NPjv",
        "outputId": "68f7895e-0f54-4d43-b9dd-401723bf7ee7"
      },
      "execution_count": null,
      "outputs": [
        {
          "output_type": "display_data",
          "data": {
            "text/plain": [
              "<Figure size 864x360 with 1 Axes>"
            ],
            "image/png": "[encoded data removed]"
          },
          "metadata": {}
        }
      ]
    },
    {
      "cell_type": "markdown",
      "source": [
        "#**Bivariate Analysis**"
      ],
      "metadata": {
        "id": "YRCfSoKANpoM"
      }
    },
    {
      "cell_type": "code",
      "source": [
        "smoker_sex=pd.crosstab(df['sex'],df['smoker'])"
      ],
      "metadata": {
        "id": "CCGsyWjWSr-n"
      },
      "execution_count": null,
      "outputs": []
    },
    {
      "cell_type": "code",
      "source": [
        "smoker_sex.plot(kind = 'bar')\n",
        "plt.title('Smoker among Male/Female')\n",
        "plt.xticks(rotation = 45)\n",
        "plt.show()"
      ],
      "metadata": {
        "colab": {
          "base_uri": "https://localhost:8080/",
          "height": 317
        },
        "id": "FMYTyyUlN1W8",
        "outputId": "544cdaeb-986a-4518-a65f-6b1ba9d6b154"
      },
      "execution_count": null,
      "outputs": [
        {
          "output_type": "display_data",
          "data": {
            "text/plain": [
              "<Figure size 432x288 with 1 Axes>"
            ],
            "image/png": "[encoded data removed]"
          },
          "metadata": {
            "needs_background": "light"
          }
        }
      ]
    },
    {
      "cell_type": "markdown",
      "source": [
        "**INSIGHT**: Male patient prefered to smoke more than female patient."
      ],
      "metadata": {
        "id": "x3LLUXSDUtQ8"
      }
    },
    {
      "cell_type": "code",
      "source": [
        "rs=pd.crosstab(df['sex'],df['region'])"
      ],
      "metadata": {
        "id": "-iplYcbHVj-H"
      },
      "execution_count": null,
      "outputs": []
    },
    {
      "cell_type": "code",
      "source": [
        "rs.plot(kind = 'bar')\n",
        "plt.title('region wise Male/Female')\n",
        "plt.xticks(rotation = 45)\n",
        "plt.show()"
      ],
      "metadata": {
        "colab": {
          "base_uri": "https://localhost:8080/",
          "height": 317
        },
        "id": "fJQRnaicUQcQ",
        "outputId": "57e9f9ee-aeb4-483c-b7c5-30fc805a62be"
      },
      "execution_count": null,
      "outputs": [
        {
          "output_type": "display_data",
          "data": {
            "text/plain": [
              "<Figure size 432x288 with 1 Axes>"
            ],
            "image/png": "[encoded data removed]"
          },
          "metadata": {
            "needs_background": "light"
          }
        }
      ]
    },
    {
      "cell_type": "markdown",
      "source": [
        "**INSIGHT**: In Southeast,the number of males and females are at the top with respect to regions."
      ],
      "metadata": {
        "id": "dQ-sD5EsWN0o"
      }
    },
    {
      "cell_type": "markdown",
      "source": [
        "**Outliers**"
      ],
      "metadata": {
        "id": "v04UNTuxlnMG"
      }
    },
    {
      "cell_type": "code",
      "source": [
        "from scipy.stats.stats import iqr\n",
        "\n",
        "lst=['age','viral_load','severity_level','hospitalization_charges']\n",
        "for l in lst:\n",
        "  q1=df[l].quantile(0.25)\n",
        "  q3=df[l].quantile(0.75)\n",
        "  iqr =q3-q1\n",
        "  print(\"Upper_bound :\",q1-(1.5*iqr))\n",
        "  print(\"Lower_bound :\",q1+(1.5*iqr))\n",
        "  outlier = [l for l in df[l] if (l <(q1-(1.5*iqr))) | (l >(q1+(1.5*iqr)))]\n",
        "  print(l+\"_outlier: \",list(set(outlier)))\n",
        "\n",
        "\n",
        "  print('\\n')\n",
        "  plt.figure(figsize=(12,6))\n",
        "  plt.boxplot(df[l])\n",
        "  ttl=\"Detecting outliers for \"+l+\" using Boxplot\"\n",
        "  plt.title(ttl)\n",
        "  plt.show()"
      ],
      "metadata": {
        "colab": {
          "base_uri": "https://localhost:8080/",
          "height": 1000
        },
        "id": "KsdVRJyqbAK4",
        "outputId": "6f79c5b2-7e8d-406c-fce0-5fd20992a87c"
      },
      "execution_count": null,
      "outputs": [
        {
          "output_type": "stream",
          "name": "stdout",
          "text": [
            "Upper_bound : -9.0\n",
            "Lower_bound : 63.0\n",
            "age_outlier:  [64]\n",
            "\n",
            "\n"
          ]
        },
        {
          "output_type": "display_data",
          "data": {
            "text/plain": [
              "<Figure size 864x432 with 1 Axes>"
            ],
            "image/png": "[encoded data removed]"
          },
          "metadata": {
            "needs_background": "light"
          }
        },
        {
          "output_type": "stream",
          "name": "stdout",
          "text": [
            "Upper_bound : 4.554999999999997\n",
            "Lower_bound : 12.970000000000002\n",
            "viral_load_outlier:  [12.98, 13.09, 13.78, 14.08, 13.81, 13.31, 13.82, 13.97, 13.11, 13.38, 13.52, 15.18, 16.35, 16.02, 17.53, 13.43, 13.46, 13.93, 13.07, 13.14, 14.04, 14.96, 14.25, 13.64, 14.57, 15.57, 15.14, 15.36, 15.11, 16.79, 17.71, 13.05, 13.65, 13.4, 13.33, 13.9, 14.15, 14.22, 14.12, 14.47, 14.37, 15.58, 15.51, 15.4, 15.87, 14.9, 13.71, 13.3, 13.27, 13.23, 13.55, 13.16, 14.3, 14.23, 13.2, 14.45, 13.02, 15.84, 14.34, 15.8, 15.91, 15.3, 13.5, 13.6, 13.42, 13.49, 13.24, 13.03, 14.92, 14.67, 13.74, 13.17, 14.63, 14.74, 14.31, 14.13, 13.13, 13.7]\n",
            "\n",
            "\n"
          ]
        },
        {
          "output_type": "display_data",
          "data": {
            "text/plain": [
              "<Figure size 864x432 with 1 Axes>"
            ],
            "image/png": "[encoded data removed]"
          },
          "metadata": {
            "needs_background": "light"
          }
        },
        {
          "output_type": "stream",
          "name": "stdout",
          "text": [
            "Upper_bound : -3.0\n",
            "Lower_bound : 3.0\n",
            "severity_level_outlier:  [4, 5]\n",
            "\n",
            "\n"
          ]
        },
        {
          "output_type": "display_data",
          "data": {
            "text/plain": [
              "<Figure size 864x432 with 1 Axes>"
            ],
            "image/png": "[encoded data removed]"
          },
          "metadata": {
            "needs_background": "light"
          }
        },
        {
          "output_type": "stream",
          "name": "stdout",
          "text": [
            "Upper_bound : -32771.75\n",
            "Lower_bound : 56473.75\n",
            "hospitalization_charges_outlier:  [71172, 96773, 96778, 67595, 119820, 59918, 93711, 86545, 97813, 96279, 71192, 65047, 92698, 58908, 121373, 87072, 102435, 60452, 150053, 104999, 123944, 58921, 77355, 94255, 81969, 65591, 60984, 87097, 105528, 122426, 110652, 116795, 70720, 61508, 98891, 114255, 73808, 95316, 86100, 115284, 92247, 96866, 114276, 90213, 100456, 108136, 99436, 70253, 137839, 73327, 120433, 72308, 92277, 95861, 99959, 66168, 87673, 59518, 115326, 85635, 107142, 58503, 64141, 90769, 94356, 111253, 72853, 60568, 75417, 88729, 86680, 92835, 86182, 100008, 109741, 115378, 98994, 72376, 101048, 102586, 69311, 159426, 70850, 64197, 75462, 90311, 79050, 122061, 68307, 67795, 99029, 96982, 92376, 97496, 104154, 69853, 62175, 83680, 68835, 61669, 62183, 83690, 109803, 118510, 61679, 62704, 92913, 67316, 60149, 58104, 65273, 85758, 104190, 58112, 90374, 99591, 61191, 72966, 68365, 57614, 84752, 116498, 105759, 84769, 65314, 109860, 96039, 63274, 115502, 63793, 93175, 98104, 91451, 87869, 105279, 57664, 105281, 156482, 94019, 83269, 109383, 65351, 59719, 100684, 62288, 97618, 121684, 102743, 68440, 121689, 87900, 104798, 105311, 99679, 61283, 122213, 63333, 111464, 90473, 57707, 60267, 84332, 58222, 94574, 90994, 102260, 61301, 90494, 95614, 118657, 75650, 88964, 117639, 112522, 80272, 69522, 108947, 106901, 131477, 75159, 84376, 111001, 58266, 61339, 88989, 118175, 107425, 106401, 100260, 86949, 85416, 101801, 104873, 81835, 110507, 67502, 116654, 90549, 115638, 102331, 65981, 92094, 119742, 75712, 107459, 90053, 121294, 68046, 102353, 118228, 118741, 64982, 111060, 81371, 95707, 109535, 63456, 93663, 114658, 117223, 87016, 99307, 72172, 127986, 99314, 99319, 111603, 118263, 146428]\n",
            "\n",
            "\n"
          ]
        },
        {
          "output_type": "display_data",
          "data": {
            "text/plain": [
              "<Figure size 864x432 with 1 Axes>"
            ],
            "image/png": "[encoded data removed]"
          },
          "metadata": {
            "needs_background": "light"
          }
        }
      ]
    },
    {
      "cell_type": "markdown",
      "source": [
        "#**Levene's test to check whether the variances of the two group are same or not**\n",
        "\n",
        "Equality of Variance Test:Performing equivalence check by using Levene's test.\n",
        "\n",
        "The hypothesis of this test are:\n",
        "\n",
        "Ho - Variances are equal\n",
        "\n",
        "Ha - Variances are not equal"
      ],
      "metadata": {
        "id": "Ut1_9Zfipbz3"
      }
    },
    {
      "cell_type": "code",
      "source": [
        "# extract the data for smoker and NonSmoker\n",
        "df_Smoker_hospitalization=df[df['smoker']=='yes']['hospitalization_charges']\n",
        "df_NonSmoker_hospitalization=df[df['smoker']=='yes']['hospitalization_charges']"
      ],
      "metadata": {
        "id": "BIoky4LDtw9u"
      },
      "execution_count": null,
      "outputs": []
    },
    {
      "cell_type": "code",
      "source": [
        "alpha=0.05\n",
        "Stats, p_value = levene(df_Smoker_hospitalization,df_NonSmoker_hospitalization)\n",
        "print(f'p value = {p_value}')\n",
        "if p_value >= alpha:\n",
        "    print('We fail to reject the Null Hypothesis Ho')\n",
        "else:\n",
        "    print('We reject the Null Hypothesis Ho')"
      ],
      "metadata": {
        "colab": {
          "base_uri": "https://localhost:8080/"
        },
        "id": "-e6Bv3Nipa_3",
        "outputId": "51706d9f-aa10-4439-9f28-f2af9413edca"
      },
      "execution_count": null,
      "outputs": [
        {
          "output_type": "stream",
          "name": "stdout",
          "text": [
            "p value = 1.0\n",
            "We fail to reject the Null Hypothesis Ho\n"
          ]
        }
      ]
    },
    {
      "cell_type": "markdown",
      "source": [
        "# **Normality Test:** \n",
        "We have taken the difference between samples of hospitalization of smoker and Non-Smoker and scale it to check the normality.\n",
        "\n",
        "#**Performing normality check using Shapiro-Wilk Test**\n",
        "\n",
        "The hypothesis of this test are:\n",
        "\n",
        "Ho - series is normal\n",
        "\n",
        "Ha - series is not normal"
      ],
      "metadata": {
        "id": "6DP5bLaSqYRP"
      }
    },
    {
      "cell_type": "code",
      "source": [
        "#Shapiro-Wilk Test\n",
        "diff_userscount = scale((np.array(df_Smoker_hospitalization) - np.array(df_NonSmoker_hospitalization)))\n",
        "stat, p = shapiro(diff_userscount)\n",
        "print('stat=%.2f, p=%.30f' % (stat, p))\n",
        "\n",
        "if p > alpha:\n",
        "    print('Normal distribution/Accept Null Hypothesis')\n",
        "else:\n",
        "    print('Not a normal distribution/Reject Null Hypothesis')\n"
      ],
      "metadata": {
        "colab": {
          "base_uri": "https://localhost:8080/"
        },
        "id": "oT0A3rJVqXZ1",
        "outputId": "4c2ee351-cada-449b-834c-1034bb2ba267"
      },
      "execution_count": null,
      "outputs": [
        {
          "output_type": "stream",
          "name": "stdout",
          "text": [
            "stat=1.00, p=1.000000000000000000000000000000\n",
            "Normal distribution/Accept Null Hypothesis\n"
          ]
        }
      ]
    },
    {
      "cell_type": "markdown",
      "source": [
        "**INSIGHT:** The distribution of data is normal."
      ],
      "metadata": {
        "id": "Grj_fE-XFlxk"
      }
    },
    {
      "cell_type": "markdown",
      "source": [
        "# **Q-Q plot**"
      ],
      "metadata": {
        "id": "3qmoe1CkFs4y"
      }
    },
    {
      "cell_type": "code",
      "source": [
        "#q-q plot to check the normality\n",
        "import statsmodels.api as sm\n",
        "#create Q-Q plot with 45-degree line added to plot\n",
        "fig = sm.qqplot(df['viral_load'], line='45')\n",
        "plt.show()"
      ],
      "metadata": {
        "colab": {
          "base_uri": "https://localhost:8080/",
          "height": 279
        },
        "id": "R5LjyjomFuiY",
        "outputId": "d0652684-df0f-4c56-b984-2f0ce9c589ac"
      },
      "execution_count": null,
      "outputs": [
        {
          "output_type": "display_data",
          "data": {
            "text/plain": [
              "<Figure size 432x288 with 1 Axes>"
            ],
            "image/png": "[encoded data removed]"
          },
          "metadata": {
            "needs_background": "light"
          }
        }
      ]
    },
    {
      "cell_type": "markdown",
      "source": [
        "**INSIGHT:**The sample quantiles are not similar to the theoretical quantiles (i.e. the blue points are away from the red line). The greatest part of the sample distribution do not fit quite well with the theoretical one.We can conclude that the distribution is not normal."
      ],
      "metadata": {
        "id": "qrRjlu_C849q"
      }
    },
    {
      "cell_type": "markdown",
      "source": [
        "# **Histogram plot**"
      ],
      "metadata": {
        "id": "ms2ID_RKF82O"
      }
    },
    {
      "cell_type": "code",
      "source": [
        "#Plot histogram to check the normality\n",
        "#diff_userscount = scale((np.array(df_Smoker_hospitalization) - np.array(df_NonSmoker_hospitalization)))\n",
        "plt.figure(figsize=(12,6))\n",
        "plt.hist(df['viral_load'])\n",
        "plt.show()"
      ],
      "metadata": {
        "colab": {
          "base_uri": "https://localhost:8080/",
          "height": 374
        },
        "id": "e2G9fderF971",
        "outputId": "e37385a0-741f-49c8-f64c-b5247b5ded38"
      },
      "execution_count": null,
      "outputs": [
        {
          "output_type": "display_data",
          "data": {
            "text/plain": [
              "<Figure size 864x432 with 1 Axes>"
            ],
            "image/png": "[encoded data removed]"
          },
          "metadata": {
            "needs_background": "light"
          }
        }
      ]
    },
    {
      "cell_type": "markdown",
      "source": [
        "**INSIGHT:** The distribution is not close to the normal distribution.\n",
        "\n",
        "\n",
        "**NOTE: Although the distribution is not normal, but still we have to perform the analysis as per the requirement of question.**"
      ],
      "metadata": {
        "id": "QO3vvTJ3AUKN"
      }
    },
    {
      "cell_type": "markdown",
      "source": [
        "#**T-test Right tailed: Prove (or disprove) that the hospitalization of people who do smoking is greater than those who don't?**"
      ],
      "metadata": {
        "id": "3_8NJTDnoaIj"
      }
    },
    {
      "cell_type": "code",
      "source": [
        "# H0 : Mean of smoker & non-smoker are equal\n",
        "# H1 : Mean of smoker is greater than non-smoker\n",
        "# Alpha : 0.05%\n",
        "alpha = 0.05\n",
        "stats , p_value = stats.ttest_ind(df_Smoker_hospitalization,df_NonSmoker_hospitalization)\n",
        "\n",
        "# compare the t-p_value to the significance to determine the result of the test\n",
        "if p_value > alpha:\n",
        "  print(f'Fail to reject Null Hypothesis, p-value is {p_value}.\\nThere is not sufficient evidence to conclude that the means of the two groups are different.\\nThe hospitalization of people who do smoking is not greater than Non-Smoker')\n",
        "else:\n",
        "  print('Reject Null Hypothesis.\\nThere is sufficient evidence to conclude that the means of the two groups are different.The hospitalization of people who do smoking is greater than Non-Smoker')"
      ],
      "metadata": {
        "id": "fmXD5LK-wb6x",
        "colab": {
          "base_uri": "https://localhost:8080/"
        },
        "outputId": "ef28b5d5-7c78-46b8-b88d-85ce4c23f6bb"
      },
      "execution_count": null,
      "outputs": [
        {
          "output_type": "stream",
          "name": "stdout",
          "text": [
            "Fail to reject Null Hypothesis, p-value is 1.0.\n",
            "There is not sufficient evidence to conclude that the means of the two groups are different.\n",
            "The hospitalization of people who do smoking is not greater than Non-Smoker\n"
          ]
        }
      ]
    },
    {
      "cell_type": "markdown",
      "source": [
        "**INSIGHT**:Fail to reject Null Hypothesis, p-value is 1.0.\n",
        "There is not sufficient evidence to conclude that the means of the two groups are different.\n",
        "The hospitalization of people who do smoking is not greater than Non-Smoker"
      ],
      "metadata": {
        "id": "LOeFyYMBooad"
      }
    },
    {
      "cell_type": "code",
      "source": [
        "import matplotlib.pyplot as plt\n",
        "\n",
        "# compute the means of the two groups\n",
        "mean1 = df_Smoker_hospitalization.mean()\n",
        "mean2 = df_NonSmoker_hospitalization.mean()\n",
        "\n",
        "# create a bar plot\n",
        "plt.bar([1, 2], [mean1, mean2], align=\"center\")\n",
        "\n",
        "# add labels and a title\n",
        "plt.xticks([1, 2], [\"Non_Smoker_Hospitalization\", \"Non_Smoker_Hospitalization\"])\n",
        "plt.xlabel(\"Hospitalization\")\n",
        "plt.ylabel(\"Mean\")\n",
        "plt.title(\"Right-tailed T-test Results\")\n",
        "\n",
        "# add a line at y=0 to show the null hypothesis value\n",
        "plt.axhline(y=0, color=\"black\", linestyle=\"--\")\n",
        "\n",
        "# show the plot\n",
        "plt.show()\n"
      ],
      "metadata": {
        "colab": {
          "base_uri": "https://localhost:8080/",
          "height": 296
        },
        "id": "Orp2KwL_pyQo",
        "outputId": "9ab2217d-84fd-4030-ff33-54680924c30b"
      },
      "execution_count": null,
      "outputs": [
        {
          "output_type": "display_data",
          "data": {
            "text/plain": [
              "<Figure size 432x288 with 1 Axes>"
            ],
            "image/png": "[encoded data removed]"
          },
          "metadata": {
            "needs_background": "light"
          }
        }
      ]
    },
    {
      "cell_type": "markdown",
      "source": [
        "#**T-test Two tailed: Prove (or disprove) with statistical evidence that the viral load of females is different from that of males**"
      ],
      "metadata": {
        "id": "jgpdRdA10dWX"
      }
    },
    {
      "cell_type": "code",
      "source": [
        "# extract the data for smoker and NonSmoker\n",
        "# H0 : Mean of viral load of females & males are equal\n",
        "# H1 : Mean of viral load of females & males are not equal\n",
        "# Alpha : 0.05%\n",
        "df_viral_females=df[df['sex']=='female']['viral_load']\n",
        "df_viral_males=df[df['sex']=='male']['viral_load']\n",
        "\n",
        "stats , p_value = scipy.stats.ttest_ind(df_viral_females,df_viral_males)\n",
        "\n",
        "# compare the t-p_value to the significance to determine the result of the test\n",
        "if p_value > alpha:\n",
        "  print(f'Fail to reject Null Hypothesis, p-value is {p_value}.\\nThe viral load of females is equal to males viral load.')\n",
        "else:\n",
        "  print('Reject Null Hypothesis.\\nThe viral load of females is different from that of males')"
      ],
      "metadata": {
        "colab": {
          "base_uri": "https://localhost:8080/"
        },
        "id": "zqHYuKwMuB3O",
        "outputId": "5aa64f50-50b7-449d-92c9-6a50cc6ffe9c"
      },
      "execution_count": null,
      "outputs": [
        {
          "output_type": "stream",
          "name": "stdout",
          "text": [
            "Fail to reject Null Hypothesis, p-value is 0.0901735841670204.\n",
            "The viral load of females is equal to males viral load.\n"
          ]
        }
      ]
    },
    {
      "cell_type": "markdown",
      "source": [
        "**INSIGHT:**The viral load of females is equal to males viral load."
      ],
      "metadata": {
        "id": "YjzXR631ot9L"
      }
    },
    {
      "cell_type": "markdown",
      "source": [
        "#**Chi-square Test : To check if smoking is dependent on the region or not**\n",
        "\n",
        "H0 : Smoking is not dependent on region\n",
        "\n",
        "H1 : Smoking is dependent on region"
      ],
      "metadata": {
        "id": "jH-VsU0V3FPH"
      }
    },
    {
      "cell_type": "code",
      "source": [
        "#Cross-tabulation analysis\n",
        "smoker_region = pd.crosstab(df['smoker'],df['region'])\n",
        "smoker_region"
      ],
      "metadata": {
        "colab": {
          "base_uri": "https://localhost:8080/",
          "height": 143
        },
        "id": "uWzRIrhF0xJY",
        "outputId": "7614c9e2-59d5-4030-ffd3-38128ce705b2"
      },
      "execution_count": null,
      "outputs": [
        {
          "output_type": "execute_result",
          "data": {
            "text/plain": [
              "region  northeast  northwest  southeast  southwest\n",
              "smoker                                            \n",
              "no            257        267        273        267\n",
              "yes            67         58         91         58"
            ],
            "text/html": [
              "\n",
              "  <div id=\"df-adcc84d6-b60b-4bec-9a9a-cfa00891a3fe\">\n",
              "    <div class=\"colab-df-container\">\n",
              "      <div>\n",
              "<style scoped>\n",
              "    .dataframe tbody tr th:only-of-type {\n",
              "        vertical-align: middle;\n",
              "    }\n",
              "\n",
              "    .dataframe tbody tr th {\n",
              "        vertical-align: top;\n",
              "    }\n",
              "\n",
              "    .dataframe thead th {\n",
              "        text-align: right;\n",
              "    }\n",
              "</style>\n",
              "<table border=\"1\" class=\"dataframe\">\n",
              "  <thead>\n",
              "    <tr style=\"text-align: right;\">\n",
              "      <th>region</th>\n",
              "      <th>northeast</th>\n",
              "      <th>northwest</th>\n",
              "      <th>southeast</th>\n",
              "      <th>southwest</th>\n",
              "    </tr>\n",
              "    <tr>\n",
              "      <th>smoker</th>\n",
              "      <th></th>\n",
              "      <th></th>\n",
              "      <th></th>\n",
              "      <th></th>\n",
              "    </tr>\n",
              "  </thead>\n",
              "  <tbody>\n",
              "    <tr>\n",
              "      <th>no</th>\n",
              "      <td>257</td>\n",
              "      <td>267</td>\n",
              "      <td>273</td>\n",
              "      <td>267</td>\n",
              "    </tr>\n",
              "    <tr>\n",
              "      <th>yes</th>\n",
              "      <td>67</td>\n",
              "      <td>58</td>\n",
              "      <td>91</td>\n",
              "      <td>58</td>\n",
              "    </tr>\n",
              "  </tbody>\n",
              "</table>\n",
              "</div>\n",
              "      <button class=\"colab-df-convert\" onclick=\"convertToInteractive('df-adcc84d6-b60b-4bec-9a9a-cfa00891a3fe')\"\n",
              "              title=\"Convert this dataframe to an interactive table.\"\n",
              "              style=\"display:none;\">\n",
              "        \n",
              "  <svg xmlns=\"http://www.w3.org/2000/svg\" height=\"24px\"viewBox=\"0 0 24 24\"\n",
              "       width=\"24px\">\n",
              "    <path d=\"M0 0h24v24H0V0z\" fill=\"none\"/>\n",
              "    <path d=\"M18.56 5.44l.94 2.06.94-2.06 2.06-.94-2.06-.94-.94-2.06-.94 2.06-2.06.94zm-11 1L8.5 8.5l.94-2.06 2.06-.94-2.06-.94L8.5 2.5l-.94 2.06-2.06.94zm10 10l.94 2.06.94-2.06 2.06-.94-2.06-.94-.94-2.06-.94 2.06-2.06.94z\"/><path d=\"M17.41 7.96l-1.37-1.37c-.4-.4-.92-.59-1.43-.59-.52 0-1.04.2-1.43.59L10.3 9.45l-7.72 7.72c-.78.78-.78 2.05 0 2.83L4 21.41c.39.39.9.59 1.41.59.51 0 1.02-.2 1.41-.59l7.78-7.78 2.81-2.81c.8-.78.8-2.07 0-2.86zM5.41 20L4 18.59l7.72-7.72 1.47 1.35L5.41 20z\"/>\n",
              "  </svg>\n",
              "      </button>\n",
              "      \n",
              "  <style>\n",
              "    .colab-df-container {\n",
              "      display:flex;\n",
              "      flex-wrap:wrap;\n",
              "      gap: 12px;\n",
              "    }\n",
              "\n",
              "    .colab-df-convert {\n",
              "      background-color: #E8F0FE;\n",
              "      border: none;\n",
              "      border-radius: 50%;\n",
              "      cursor: pointer;\n",
              "      display: none;\n",
              "      fill: #1967D2;\n",
              "      height: 32px;\n",
              "      padding: 0 0 0 0;\n",
              "      width: 32px;\n",
              "    }\n",
              "\n",
              "    .colab-df-convert:hover {\n",
              "      background-color: #E2EBFA;\n",
              "      box-shadow: 0px 1px 2px rgba(60, 64, 67, 0.3), 0px 1px 3px 1px rgba(60, 64, 67, 0.15);\n",
              "      fill: #174EA6;\n",
              "    }\n",
              "\n",
              "    [theme=dark] .colab-df-convert {\n",
              "      background-color: #3B4455;\n",
              "      fill: #D2E3FC;\n",
              "    }\n",
              "\n",
              "    [theme=dark] .colab-df-convert:hover {\n",
              "      background-color: #434B5C;\n",
              "      box-shadow: 0px 1px 3px 1px rgba(0, 0, 0, 0.15);\n",
              "      filter: drop-shadow(0px 1px 2px rgba(0, 0, 0, 0.3));\n",
              "      fill: #FFFFFF;\n",
              "    }\n",
              "  </style>\n",
              "\n",
              "      <script>\n",
              "        const buttonEl =\n",
              "          document.querySelector('#df-adcc84d6-b60b-4bec-9a9a-cfa00891a3fe button.colab-df-convert');\n",
              "        buttonEl.style.display =\n",
              "          google.colab.kernel.accessAllowed ? 'block' : 'none';\n",
              "\n",
              "        async function convertToInteractive(key) {\n",
              "          const element = document.querySelector('#df-adcc84d6-b60b-4bec-9a9a-cfa00891a3fe');\n",
              "          const dataTable =\n",
              "            await google.colab.kernel.invokeFunction('convertToInteractive',\n",
              "                                                     [key], {});\n",
              "          if (!dataTable) return;\n",
              "\n",
              "          const docLinkHtml = 'Like what you see? Visit the ' +\n",
              "            '<a target=\"_blank\" href=https://colab.research.google.com/notebooks/data_table.ipynb>data table notebook</a>'\n",
              "            + ' to learn more about interactive tables.';\n",
              "          element.innerHTML = '';\n",
              "          dataTable['output_type'] = 'display_data';\n",
              "          await google.colab.output.renderOutput(dataTable, element);\n",
              "          const docLink = document.createElement('div');\n",
              "          docLink.innerHTML = docLinkHtml;\n",
              "          element.appendChild(docLink);\n",
              "        }\n",
              "      </script>\n",
              "    </div>\n",
              "  </div>\n",
              "  "
            ]
          },
          "metadata": {},
          "execution_count": 50
        }
      ]
    },
    {
      "cell_type": "code",
      "source": [
        "smoker_region.plot(kind = 'bar')\n",
        "plt.title('Smoker Vs Region')\n",
        "plt.xticks(rotation = 45)\n",
        "plt.show()"
      ],
      "metadata": {
        "colab": {
          "base_uri": "https://localhost:8080/",
          "height": 305
        },
        "id": "m_hC-f9X3LEW",
        "outputId": "5d9004b6-ebfe-4bc4-974a-773a3da1691a"
      },
      "execution_count": null,
      "outputs": [
        {
          "output_type": "display_data",
          "data": {
            "text/plain": [
              "<Figure size 432x288 with 1 Axes>"
            ],
            "image/png": "[encoded data removed]"
          },
          "metadata": {
            "needs_background": "light"
          }
        }
      ]
    },
    {
      "cell_type": "code",
      "source": [
        "#Chi2_Contingency Test\n",
        "t_stats, p_value, dof, expected_frequencies  = stats.chi2_contingency(smoker_region)\n",
        "#stat, p, dof, expected\n",
        "print(f\" Chi-square statististics value = {t_stats} \\n p-value = {p_value} \\n degrees of freedom = {dof} \\n Array of expected frequenies = {expected_frequencies}\")"
      ],
      "metadata": {
        "colab": {
          "base_uri": "https://localhost:8080/"
        },
        "id": "PfjpZHh03tsq",
        "outputId": "cd605c6e-d015-4326-a7b0-dc4555677284"
      },
      "execution_count": null,
      "outputs": [
        {
          "output_type": "stream",
          "name": "stdout",
          "text": [
            " Chi-square statististics value = 7.34347776140707 \n",
            " p-value = 0.06171954839170547 \n",
            " degrees of freedom = 3 \n",
            " Array of expected frequenies = [[257.65022422 258.44544096 289.45889387 258.44544096]\n",
            " [ 66.34977578  66.55455904  74.54110613  66.55455904]]\n"
          ]
        }
      ]
    },
    {
      "cell_type": "code",
      "source": [
        "stats,p_value,degrees_of_freedom,expected = stats.chi2_contingency(smoker_region)\n",
        "if p_value > alpha:\n",
        "  print(f' Accept Null Hypothesis\\n P-Value = {p_value}\\n The proportion of smoking is not dependent on regions')\n",
        "else:\n",
        "  print(f' Reject Null Hypothesis\\n P-Value = {p_value}\\n The proportion of smoking is significantly different across different regions.')"
      ],
      "metadata": {
        "colab": {
          "base_uri": "https://localhost:8080/"
        },
        "id": "a9FVBwPu3_B2",
        "outputId": "93735d66-bd94-4781-82d0-a9bdfa20e303"
      },
      "execution_count": null,
      "outputs": [
        {
          "output_type": "stream",
          "name": "stdout",
          "text": [
            " Accept Null Hypothesis\n",
            " P-Value = 0.06171954839170547\n",
            " The proportion of smoking is not dependent on regions\n"
          ]
        }
      ]
    },
    {
      "cell_type": "markdown",
      "source": [
        "**INSIGHT:**The proportion of smoking is not dependent on regions."
      ],
      "metadata": {
        "id": "JCoiKU10ZF1T"
      }
    },
    {
      "cell_type": "markdown",
      "source": [
        "# **One way Anova Test:To check the Severity level among women in terms of viral load**\n",
        "\n",
        "H0 : Mean of viral load at each severity level among female is same.\n",
        "\n",
        "H1 : Mean of viral load at each severity level among female is different."
      ],
      "metadata": {
        "id": "Brz47cZ56FKy"
      }
    },
    {
      "cell_type": "code",
      "source": [
        "df.head(2)\n",
        "df.severity_level.unique()"
      ],
      "metadata": {
        "colab": {
          "base_uri": "https://localhost:8080/"
        },
        "id": "vpwgAIeSh6C0",
        "outputId": "fecea5ac-345e-46fd-ee4d-4fe7189a2432"
      },
      "execution_count": null,
      "outputs": [
        {
          "output_type": "execute_result",
          "data": {
            "text/plain": [
              "array([0, 1, 3, 2, 5, 4])"
            ]
          },
          "metadata": {},
          "execution_count": 57
        }
      ]
    },
    {
      "cell_type": "code",
      "source": [
        "df_female=df[df['sex']=='female']"
      ],
      "metadata": {
        "id": "5HhtjlKriu2v"
      },
      "execution_count": null,
      "outputs": []
    },
    {
      "cell_type": "code",
      "source": [
        "Stats,p_value = stats.f_oneway(df_female['viral_load'][df['severity_level']==0],df_female['viral_load'][df['severity_level']==1],df_female['viral_load'][df['severity_level']==2],df_female['viral_load'][df['severity_level']==3],df_female['viral_load'][df['severity_level']==4],df_female['viral_load'][df['severity_level']==5])\n",
        "\n",
        "if p_value > alpha :\n",
        "  print(' Failed to reject null hypothesis \\n Mean of viral load at each severity level among female is same \\n p-value :',p_value)\n",
        "else:\n",
        "  print(' Reject null hypothesis \\n Mean of viral load at each severity level among female is different \\n p-value : ',p_value)"
      ],
      "metadata": {
        "id": "6jbf4xDr4d-b",
        "colab": {
          "base_uri": "https://localhost:8080/"
        },
        "outputId": "64c32de1-eaaa-42c7-9fe6-e8cd1500c5b8"
      },
      "execution_count": null,
      "outputs": [
        {
          "output_type": "stream",
          "name": "stdout",
          "text": [
            " Failed to reject null hypothesis \n",
            " Mean of viral load at each severity level among female is same \n",
            " p-value : 0.9185708092374022\n"
          ]
        }
      ]
    },
    {
      "cell_type": "markdown",
      "source": [
        "**INSIGHT:** Mean of viral load at each severity level among female is same."
      ],
      "metadata": {
        "id": "WBnwIiKBo3cN"
      }
    },
    {
      "cell_type": "markdown",
      "source": [
        "# **Recommendations**\n",
        "1.The hospitalization of people who do smoking is equal to Non-Smoker. It depicts that the respiratory disease is not matter of concern or severe.\n",
        "\n",
        "2.The viral load of females is equal to males viral load. The proportion of both female and male is equal due to viral load. Then the patient might belong to same family as it is viral. In that case Apollo should provide discount if the patients belong to same family.\n",
        "\n",
        "3.The proportion of smoking is not dependent on regions. Irrespective of the region, patient smoke. It means that coming years, more patients are going to admit for respiratory illness in different regions.\n",
        "\n",
        "4.Mean of viral load at each severity level among female is same. It is indicating the most severe patient at each level is female. Apollo should introduce affordable health checkup for the female quarterly, which may improve the health condition of female.\n",
        "\n",
        "5.Male patient preferred to smoke more than female patient. Apollo should make aware by workshop or open the rehab center for smoke cessation.\n",
        "\n",
        "7.There are less smoker overall and female is less as compared to male. But still the severity of female is more than male. Apollo should find the root cause of severe disease among female."
      ],
      "metadata": {
        "id": "0zbjvFTYE1Ok"
      }
    }
  ]
}