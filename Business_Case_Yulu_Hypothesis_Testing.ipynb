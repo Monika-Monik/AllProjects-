{
  "nbformat": 4,
  "nbformat_minor": 0,
  "metadata": {
    "colab": {
      "provenance": [],
      "authorship_tag": "ABX9TyMNx3rlQQzDbHk2jMB57R4r",
      "include_colab_link": true
    },
    "kernelspec": {
      "name": "python3",
      "display_name": "Python 3"
    },
    "language_info": {
      "name": "python"
    }
  },
  "cells": [
    {
      "cell_type": "markdown",
      "metadata": {
        "id": "view-in-github",
        "colab_type": "text"
      },
      "source": [
        "<a href=\"https://colab.research.google.com/github/Monika-Monik/AllProjects-/blob/main/Business_Case_Yulu_Hypothesis_Testing.ipynb\" target=\"_parent\"><img src=\"https://colab.research.google.com/assets/colab-badge.svg\" alt=\"Open In Colab\"/></a>"
      ]
    },
    {
      "cell_type": "markdown",
      "source": [
        "**Import libraries**"
      ],
      "metadata": {
        "id": "cDvc8cQYvFZd"
      }
    },
    {
      "cell_type": "code",
      "execution_count": null,
      "metadata": {
        "id": "nYf63zUBsl6I"
      },
      "outputs": [],
      "source": [
        "import numpy as np\n",
        "import pandas as pd\n",
        "import seaborn as sns \n",
        "%matplotlib inline\n",
        "import matplotlib.pyplot as plt\n",
        "from scipy import stats\n",
        "from scipy.stats import levene\n",
        "from scipy.stats import shapiro\n",
        "from sklearn.preprocessing import scale\n",
        "from scipy.stats import chi2_contingency\n",
        "import warnings\n",
        "warnings.filterwarnings(\"ignore\")"
      ]
    },
    {
      "cell_type": "code",
      "source": [
        "from IPython.display import display, HTML\n",
        "display(HTML(\"<style>.container { width:100% !important; }</style>\"))"
      ],
      "metadata": {
        "colab": {
          "base_uri": "https://localhost:8080/",
          "height": 17
        },
        "id": "vz1Wm_Xd-JZ4",
        "outputId": "1a130f07-94f2-4720-f2f2-d6f7aff6e916"
      },
      "execution_count": null,
      "outputs": [
        {
          "output_type": "display_data",
          "data": {
            "text/plain": [
              "<IPython.core.display.HTML object>"
            ],
            "text/html": [
              "<style>.container { width:100% !important; }</style>"
            ]
          },
          "metadata": {}
        }
      ]
    },
    {
      "cell_type": "markdown",
      "source": [
        "**Load data**"
      ],
      "metadata": {
        "id": "ukxd4LArvVP8"
      }
    },
    {
      "cell_type": "code",
      "source": [
        "df=pd.read_csv('/content/bike_sharing.csv')"
      ],
      "metadata": {
        "id": "1CtPSotSvQG4"
      },
      "execution_count": null,
      "outputs": []
    },
    {
      "cell_type": "code",
      "source": [
        "df.info()"
      ],
      "metadata": {
        "colab": {
          "base_uri": "https://localhost:8080/"
        },
        "id": "74c_jdKjvZSK",
        "outputId": "8d0db546-0e5e-4e43-cb38-c9bef77ed9d6"
      },
      "execution_count": null,
      "outputs": [
        {
          "output_type": "stream",
          "name": "stdout",
          "text": [
            "<class 'pandas.core.frame.DataFrame'>\n",
            "RangeIndex: 10886 entries, 0 to 10885\n",
            "Data columns (total 12 columns):\n",
            " #   Column      Non-Null Count  Dtype  \n",
            "---  ------      --------------  -----  \n",
            " 0   datetime    10886 non-null  object \n",
            " 1   season      10886 non-null  int64  \n",
            " 2   holiday     10886 non-null  int64  \n",
            " 3   workingday  10886 non-null  int64  \n",
            " 4   weather     10886 non-null  int64  \n",
            " 5   temp        10886 non-null  float64\n",
            " 6   atemp       10886 non-null  float64\n",
            " 7   humidity    10886 non-null  int64  \n",
            " 8   windspeed   10886 non-null  float64\n",
            " 9   casual      10886 non-null  int64  \n",
            " 10  registered  10886 non-null  int64  \n",
            " 11  count       10886 non-null  int64  \n",
            "dtypes: float64(3), int64(8), object(1)\n",
            "memory usage: 1020.7+ KB\n"
          ]
        }
      ]
    },
    {
      "cell_type": "markdown",
      "source": [
        "**INSIGHT:** The file conatins data of object ,integer and float format."
      ],
      "metadata": {
        "id": "uzZv7VIX8JIH"
      }
    },
    {
      "cell_type": "code",
      "source": [
        "df.shape # There are 10886 rows and 12 columns"
      ],
      "metadata": {
        "colab": {
          "base_uri": "https://localhost:8080/"
        },
        "id": "L8JbIC6HJSxc",
        "outputId": "a2b2f830-346b-4834-bb05-54f6ee95cc81"
      },
      "execution_count": null,
      "outputs": [
        {
          "output_type": "execute_result",
          "data": {
            "text/plain": [
              "(10886, 12)"
            ]
          },
          "metadata": {},
          "execution_count": 5
        }
      ]
    },
    {
      "cell_type": "code",
      "source": [
        "df.sample(2)"
      ],
      "metadata": {
        "colab": {
          "base_uri": "https://localhost:8080/",
          "height": 112
        },
        "id": "f-annN7xvhvp",
        "outputId": "82daace5-9cf7-4e59-949b-05d690d9217c"
      },
      "execution_count": null,
      "outputs": [
        {
          "output_type": "execute_result",
          "data": {
            "text/plain": [
              "                 datetime  season  holiday  workingday  weather   temp  atemp  \\\n",
              "177   2011-01-08 16:00:00       1        0           0        1   7.38   6.82   \n",
              "4548  2011-11-02 14:00:00       4        0           1        1  20.50  24.24   \n",
              "\n",
              "      humidity  windspeed  casual  registered  count  \n",
              "177         29    30.0026       8          68     76  \n",
              "4548        45    11.0014      40         132    172  "
            ],
            "text/html": [
              "\n",
              "  <div id=\"df-90d46625-29df-4360-a402-5a2b83bc2747\">\n",
              "    <div class=\"colab-df-container\">\n",
              "      <div>\n",
              "<style scoped>\n",
              "    .dataframe tbody tr th:only-of-type {\n",
              "        vertical-align: middle;\n",
              "    }\n",
              "\n",
              "    .dataframe tbody tr th {\n",
              "        vertical-align: top;\n",
              "    }\n",
              "\n",
              "    .dataframe thead th {\n",
              "        text-align: right;\n",
              "    }\n",
              "</style>\n",
              "<table border=\"1\" class=\"dataframe\">\n",
              "  <thead>\n",
              "    <tr style=\"text-align: right;\">\n",
              "      <th></th>\n",
              "      <th>datetime</th>\n",
              "      <th>season</th>\n",
              "      <th>holiday</th>\n",
              "      <th>workingday</th>\n",
              "      <th>weather</th>\n",
              "      <th>temp</th>\n",
              "      <th>atemp</th>\n",
              "      <th>humidity</th>\n",
              "      <th>windspeed</th>\n",
              "      <th>casual</th>\n",
              "      <th>registered</th>\n",
              "      <th>count</th>\n",
              "    </tr>\n",
              "  </thead>\n",
              "  <tbody>\n",
              "    <tr>\n",
              "      <th>177</th>\n",
              "      <td>2011-01-08 16:00:00</td>\n",
              "      <td>1</td>\n",
              "      <td>0</td>\n",
              "      <td>0</td>\n",
              "      <td>1</td>\n",
              "      <td>7.38</td>\n",
              "      <td>6.82</td>\n",
              "      <td>29</td>\n",
              "      <td>30.0026</td>\n",
              "      <td>8</td>\n",
              "      <td>68</td>\n",
              "      <td>76</td>\n",
              "    </tr>\n",
              "    <tr>\n",
              "      <th>4548</th>\n",
              "      <td>2011-11-02 14:00:00</td>\n",
              "      <td>4</td>\n",
              "      <td>0</td>\n",
              "      <td>1</td>\n",
              "      <td>1</td>\n",
              "      <td>20.50</td>\n",
              "      <td>24.24</td>\n",
              "      <td>45</td>\n",
              "      <td>11.0014</td>\n",
              "      <td>40</td>\n",
              "      <td>132</td>\n",
              "      <td>172</td>\n",
              "    </tr>\n",
              "  </tbody>\n",
              "</table>\n",
              "</div>\n",
              "      <button class=\"colab-df-convert\" onclick=\"convertToInteractive('df-90d46625-29df-4360-a402-5a2b83bc2747')\"\n",
              "              title=\"Convert this dataframe to an interactive table.\"\n",
              "              style=\"display:none;\">\n",
              "        \n",
              "  <svg xmlns=\"http://www.w3.org/2000/svg\" height=\"24px\"viewBox=\"0 0 24 24\"\n",
              "       width=\"24px\">\n",
              "    <path d=\"M0 0h24v24H0V0z\" fill=\"none\"/>\n",
              "    <path d=\"M18.56 5.44l.94 2.06.94-2.06 2.06-.94-2.06-.94-.94-2.06-.94 2.06-2.06.94zm-11 1L8.5 8.5l.94-2.06 2.06-.94-2.06-.94L8.5 2.5l-.94 2.06-2.06.94zm10 10l.94 2.06.94-2.06 2.06-.94-2.06-.94-.94-2.06-.94 2.06-2.06.94z\"/><path d=\"M17.41 7.96l-1.37-1.37c-.4-.4-.92-.59-1.43-.59-.52 0-1.04.2-1.43.59L10.3 9.45l-7.72 7.72c-.78.78-.78 2.05 0 2.83L4 21.41c.39.39.9.59 1.41.59.51 0 1.02-.2 1.41-.59l7.78-7.78 2.81-2.81c.8-.78.8-2.07 0-2.86zM5.41 20L4 18.59l7.72-7.72 1.47 1.35L5.41 20z\"/>\n",
              "  </svg>\n",
              "      </button>\n",
              "      \n",
              "  <style>\n",
              "    .colab-df-container {\n",
              "      display:flex;\n",
              "      flex-wrap:wrap;\n",
              "      gap: 12px;\n",
              "    }\n",
              "\n",
              "    .colab-df-convert {\n",
              "      background-color: #E8F0FE;\n",
              "      border: none;\n",
              "      border-radius: 50%;\n",
              "      cursor: pointer;\n",
              "      display: none;\n",
              "      fill: #1967D2;\n",
              "      height: 32px;\n",
              "      padding: 0 0 0 0;\n",
              "      width: 32px;\n",
              "    }\n",
              "\n",
              "    .colab-df-convert:hover {\n",
              "      background-color: #E2EBFA;\n",
              "      box-shadow: 0px 1px 2px rgba(60, 64, 67, 0.3), 0px 1px 3px 1px rgba(60, 64, 67, 0.15);\n",
              "      fill: #174EA6;\n",
              "    }\n",
              "\n",
              "    [theme=dark] .colab-df-convert {\n",
              "      background-color: #3B4455;\n",
              "      fill: #D2E3FC;\n",
              "    }\n",
              "\n",
              "    [theme=dark] .colab-df-convert:hover {\n",
              "      background-color: #434B5C;\n",
              "      box-shadow: 0px 1px 3px 1px rgba(0, 0, 0, 0.15);\n",
              "      filter: drop-shadow(0px 1px 2px rgba(0, 0, 0, 0.3));\n",
              "      fill: #FFFFFF;\n",
              "    }\n",
              "  </style>\n",
              "\n",
              "      <script>\n",
              "        const buttonEl =\n",
              "          document.querySelector('#df-90d46625-29df-4360-a402-5a2b83bc2747 button.colab-df-convert');\n",
              "        buttonEl.style.display =\n",
              "          google.colab.kernel.accessAllowed ? 'block' : 'none';\n",
              "\n",
              "        async function convertToInteractive(key) {\n",
              "          const element = document.querySelector('#df-90d46625-29df-4360-a402-5a2b83bc2747');\n",
              "          const dataTable =\n",
              "            await google.colab.kernel.invokeFunction('convertToInteractive',\n",
              "                                                     [key], {});\n",
              "          if (!dataTable) return;\n",
              "\n",
              "          const docLinkHtml = 'Like what you see? Visit the ' +\n",
              "            '<a target=\"_blank\" href=https://colab.research.google.com/notebooks/data_table.ipynb>data table notebook</a>'\n",
              "            + ' to learn more about interactive tables.';\n",
              "          element.innerHTML = '';\n",
              "          dataTable['output_type'] = 'display_data';\n",
              "          await google.colab.output.renderOutput(dataTable, element);\n",
              "          const docLink = document.createElement('div');\n",
              "          docLink.innerHTML = docLinkHtml;\n",
              "          element.appendChild(docLink);\n",
              "        }\n",
              "      </script>\n",
              "    </div>\n",
              "  </div>\n",
              "  "
            ]
          },
          "metadata": {},
          "execution_count": 6
        }
      ]
    },
    {
      "cell_type": "markdown",
      "source": [
        "**Required check before data analysis**"
      ],
      "metadata": {
        "id": "KhWZ11tUjiGs"
      }
    },
    {
      "cell_type": "code",
      "source": [
        "total_null = df.isnull().sum().sort_values(ascending = False)\n",
        "print(f\"Total records in (bike_sharing.csv) = {df.shape[0]} where missing values are as follows:\")\n",
        "missing_data = pd.concat([total_null],axis=1,keys=['Total Missing'])\n",
        "missing_data.head(10)"
      ],
      "metadata": {
        "colab": {
          "base_uri": "https://localhost:8080/",
          "height": 380
        },
        "id": "5vIZ4HULvd7B",
        "outputId": "abdebdaa-ed10-4132-82cb-6de658835346"
      },
      "execution_count": null,
      "outputs": [
        {
          "output_type": "stream",
          "name": "stdout",
          "text": [
            "Total records in (bike_sharing.csv) = 10886 where missing values are as follows:\n"
          ]
        },
        {
          "output_type": "execute_result",
          "data": {
            "text/plain": [
              "            Total Missing\n",
              "datetime                0\n",
              "season                  0\n",
              "holiday                 0\n",
              "workingday              0\n",
              "weather                 0\n",
              "temp                    0\n",
              "atemp                   0\n",
              "humidity                0\n",
              "windspeed               0\n",
              "casual                  0"
            ],
            "text/html": [
              "\n",
              "  <div id=\"df-67598c5c-6eb8-4108-8a91-b453762e5db7\">\n",
              "    <div class=\"colab-df-container\">\n",
              "      <div>\n",
              "<style scoped>\n",
              "    .dataframe tbody tr th:only-of-type {\n",
              "        vertical-align: middle;\n",
              "    }\n",
              "\n",
              "    .dataframe tbody tr th {\n",
              "        vertical-align: top;\n",
              "    }\n",
              "\n",
              "    .dataframe thead th {\n",
              "        text-align: right;\n",
              "    }\n",
              "</style>\n",
              "<table border=\"1\" class=\"dataframe\">\n",
              "  <thead>\n",
              "    <tr style=\"text-align: right;\">\n",
              "      <th></th>\n",
              "      <th>Total Missing</th>\n",
              "    </tr>\n",
              "  </thead>\n",
              "  <tbody>\n",
              "    <tr>\n",
              "      <th>datetime</th>\n",
              "      <td>0</td>\n",
              "    </tr>\n",
              "    <tr>\n",
              "      <th>season</th>\n",
              "      <td>0</td>\n",
              "    </tr>\n",
              "    <tr>\n",
              "      <th>holiday</th>\n",
              "      <td>0</td>\n",
              "    </tr>\n",
              "    <tr>\n",
              "      <th>workingday</th>\n",
              "      <td>0</td>\n",
              "    </tr>\n",
              "    <tr>\n",
              "      <th>weather</th>\n",
              "      <td>0</td>\n",
              "    </tr>\n",
              "    <tr>\n",
              "      <th>temp</th>\n",
              "      <td>0</td>\n",
              "    </tr>\n",
              "    <tr>\n",
              "      <th>atemp</th>\n",
              "      <td>0</td>\n",
              "    </tr>\n",
              "    <tr>\n",
              "      <th>humidity</th>\n",
              "      <td>0</td>\n",
              "    </tr>\n",
              "    <tr>\n",
              "      <th>windspeed</th>\n",
              "      <td>0</td>\n",
              "    </tr>\n",
              "    <tr>\n",
              "      <th>casual</th>\n",
              "      <td>0</td>\n",
              "    </tr>\n",
              "  </tbody>\n",
              "</table>\n",
              "</div>\n",
              "      <button class=\"colab-df-convert\" onclick=\"convertToInteractive('df-67598c5c-6eb8-4108-8a91-b453762e5db7')\"\n",
              "              title=\"Convert this dataframe to an interactive table.\"\n",
              "              style=\"display:none;\">\n",
              "        \n",
              "  <svg xmlns=\"http://www.w3.org/2000/svg\" height=\"24px\"viewBox=\"0 0 24 24\"\n",
              "       width=\"24px\">\n",
              "    <path d=\"M0 0h24v24H0V0z\" fill=\"none\"/>\n",
              "    <path d=\"M18.56 5.44l.94 2.06.94-2.06 2.06-.94-2.06-.94-.94-2.06-.94 2.06-2.06.94zm-11 1L8.5 8.5l.94-2.06 2.06-.94-2.06-.94L8.5 2.5l-.94 2.06-2.06.94zm10 10l.94 2.06.94-2.06 2.06-.94-2.06-.94-.94-2.06-.94 2.06-2.06.94z\"/><path d=\"M17.41 7.96l-1.37-1.37c-.4-.4-.92-.59-1.43-.59-.52 0-1.04.2-1.43.59L10.3 9.45l-7.72 7.72c-.78.78-.78 2.05 0 2.83L4 21.41c.39.39.9.59 1.41.59.51 0 1.02-.2 1.41-.59l7.78-7.78 2.81-2.81c.8-.78.8-2.07 0-2.86zM5.41 20L4 18.59l7.72-7.72 1.47 1.35L5.41 20z\"/>\n",
              "  </svg>\n",
              "      </button>\n",
              "      \n",
              "  <style>\n",
              "    .colab-df-container {\n",
              "      display:flex;\n",
              "      flex-wrap:wrap;\n",
              "      gap: 12px;\n",
              "    }\n",
              "\n",
              "    .colab-df-convert {\n",
              "      background-color: #E8F0FE;\n",
              "      border: none;\n",
              "      border-radius: 50%;\n",
              "      cursor: pointer;\n",
              "      display: none;\n",
              "      fill: #1967D2;\n",
              "      height: 32px;\n",
              "      padding: 0 0 0 0;\n",
              "      width: 32px;\n",
              "    }\n",
              "\n",
              "    .colab-df-convert:hover {\n",
              "      background-color: #E2EBFA;\n",
              "      box-shadow: 0px 1px 2px rgba(60, 64, 67, 0.3), 0px 1px 3px 1px rgba(60, 64, 67, 0.15);\n",
              "      fill: #174EA6;\n",
              "    }\n",
              "\n",
              "    [theme=dark] .colab-df-convert {\n",
              "      background-color: #3B4455;\n",
              "      fill: #D2E3FC;\n",
              "    }\n",
              "\n",
              "    [theme=dark] .colab-df-convert:hover {\n",
              "      background-color: #434B5C;\n",
              "      box-shadow: 0px 1px 3px 1px rgba(0, 0, 0, 0.15);\n",
              "      filter: drop-shadow(0px 1px 2px rgba(0, 0, 0, 0.3));\n",
              "      fill: #FFFFFF;\n",
              "    }\n",
              "  </style>\n",
              "\n",
              "      <script>\n",
              "        const buttonEl =\n",
              "          document.querySelector('#df-67598c5c-6eb8-4108-8a91-b453762e5db7 button.colab-df-convert');\n",
              "        buttonEl.style.display =\n",
              "          google.colab.kernel.accessAllowed ? 'block' : 'none';\n",
              "\n",
              "        async function convertToInteractive(key) {\n",
              "          const element = document.querySelector('#df-67598c5c-6eb8-4108-8a91-b453762e5db7');\n",
              "          const dataTable =\n",
              "            await google.colab.kernel.invokeFunction('convertToInteractive',\n",
              "                                                     [key], {});\n",
              "          if (!dataTable) return;\n",
              "\n",
              "          const docLinkHtml = 'Like what you see? Visit the ' +\n",
              "            '<a target=\"_blank\" href=https://colab.research.google.com/notebooks/data_table.ipynb>data table notebook</a>'\n",
              "            + ' to learn more about interactive tables.';\n",
              "          element.innerHTML = '';\n",
              "          dataTable['output_type'] = 'display_data';\n",
              "          await google.colab.output.renderOutput(dataTable, element);\n",
              "          const docLink = document.createElement('div');\n",
              "          docLink.innerHTML = docLinkHtml;\n",
              "          element.appendChild(docLink);\n",
              "        }\n",
              "      </script>\n",
              "    </div>\n",
              "  </div>\n",
              "  "
            ]
          },
          "metadata": {},
          "execution_count": 7
        }
      ]
    },
    {
      "cell_type": "markdown",
      "source": [
        "***Non-Graphical Analysis: Value counts***"
      ],
      "metadata": {
        "id": "N6O9Whmvj-HG"
      }
    },
    {
      "cell_type": "code",
      "source": [
        "df.value_counts()"
      ],
      "metadata": {
        "colab": {
          "base_uri": "https://localhost:8080/"
        },
        "id": "BjFVlg9AkB4L",
        "outputId": "6d993dfd-a2aa-4938-ed87-cec7027af74b"
      },
      "execution_count": null,
      "outputs": [
        {
          "output_type": "execute_result",
          "data": {
            "text/plain": [
              "datetime             season  holiday  workingday  weather  temp   atemp   humidity  windspeed  casual  registered  count\n",
              "2011-01-01 00:00:00  1       0        0           1        9.84   14.395  81        0.0000     3       13          16       1\n",
              "2012-05-01 21:00:00  2       0        1           1        26.24  30.305  65        8.9981     31      251         282      1\n",
              "2012-05-01 13:00:00  2       0        1           2        29.52  33.335  51        15.0013    41      208         249      1\n",
              "2012-05-01 14:00:00  2       0        1           2        30.34  33.335  48        16.9979    37      167         204      1\n",
              "2012-05-01 15:00:00  2       0        1           2        30.34  33.335  45        15.0013    48      186         234      1\n",
              "                                                                                                                           ..\n",
              "2011-09-02 04:00:00  3       0        1           1        24.60  28.030  83        6.0032     2       2           4        1\n",
              "2011-09-02 05:00:00  3       0        1           2        24.60  28.030  83        8.9981     0       20          20       1\n",
              "2011-09-02 06:00:00  3       0        1           1        24.60  28.030  83        8.9981     3       73          76       1\n",
              "2011-09-02 07:00:00  3       0        1           1        24.60  28.030  83        7.0015     6       253         259      1\n",
              "2012-12-19 23:00:00  4       0        1           1        13.12  16.665  66        8.9981     4       84          88       1\n",
              "Length: 10886, dtype: int64"
            ]
          },
          "metadata": {},
          "execution_count": 8
        }
      ]
    },
    {
      "cell_type": "markdown",
      "source": [
        "**Non-Graphical Analysis: Unique attributes ​​**"
      ],
      "metadata": {
        "id": "OVxD_HNYkGeK"
      }
    },
    {
      "cell_type": "code",
      "source": [
        "df.nunique()"
      ],
      "metadata": {
        "colab": {
          "base_uri": "https://localhost:8080/"
        },
        "id": "0cYqGDTvNU4g",
        "outputId": "04ca0af8-54df-4322-acc9-18b4ef225427"
      },
      "execution_count": null,
      "outputs": [
        {
          "output_type": "execute_result",
          "data": {
            "text/plain": [
              "datetime      10886\n",
              "season            4\n",
              "holiday           2\n",
              "workingday        2\n",
              "weather           4\n",
              "temp             49\n",
              "atemp            60\n",
              "humidity         89\n",
              "windspeed        28\n",
              "casual          309\n",
              "registered      731\n",
              "count           822\n",
              "dtype: int64"
            ]
          },
          "metadata": {},
          "execution_count": 9
        }
      ]
    },
    {
      "cell_type": "markdown",
      "source": [
        "**INSIGHT:** No missing value present in the data"
      ],
      "metadata": {
        "id": "lwuQOIy09_3M"
      }
    },
    {
      "cell_type": "markdown",
      "source": [
        "**Statistical summary**"
      ],
      "metadata": {
        "id": "_JzGRfXS6Mf4"
      }
    },
    {
      "cell_type": "code",
      "source": [
        "df.describe(exclude='object') "
      ],
      "metadata": {
        "colab": {
          "base_uri": "https://localhost:8080/",
          "height": 300
        },
        "id": "x8EX121p80j0",
        "outputId": "a2cbed08-ce9c-432f-c2aa-c7b76e994423"
      },
      "execution_count": null,
      "outputs": [
        {
          "output_type": "execute_result",
          "data": {
            "text/plain": [
              "             season       holiday    workingday       weather         temp  \\\n",
              "count  10886.000000  10886.000000  10886.000000  10886.000000  10886.00000   \n",
              "mean       2.506614      0.028569      0.680875      1.418427     20.23086   \n",
              "std        1.116174      0.166599      0.466159      0.633839      7.79159   \n",
              "min        1.000000      0.000000      0.000000      1.000000      0.82000   \n",
              "25%        2.000000      0.000000      0.000000      1.000000     13.94000   \n",
              "50%        3.000000      0.000000      1.000000      1.000000     20.50000   \n",
              "75%        4.000000      0.000000      1.000000      2.000000     26.24000   \n",
              "max        4.000000      1.000000      1.000000      4.000000     41.00000   \n",
              "\n",
              "              atemp      humidity     windspeed        casual    registered  \\\n",
              "count  10886.000000  10886.000000  10886.000000  10886.000000  10886.000000   \n",
              "mean      23.655084     61.886460     12.799395     36.021955    155.552177   \n",
              "std        8.474601     19.245033      8.164537     49.960477    151.039033   \n",
              "min        0.760000      0.000000      0.000000      0.000000      0.000000   \n",
              "25%       16.665000     47.000000      7.001500      4.000000     36.000000   \n",
              "50%       24.240000     62.000000     12.998000     17.000000    118.000000   \n",
              "75%       31.060000     77.000000     16.997900     49.000000    222.000000   \n",
              "max       45.455000    100.000000     56.996900    367.000000    886.000000   \n",
              "\n",
              "              count  \n",
              "count  10886.000000  \n",
              "mean     191.574132  \n",
              "std      181.144454  \n",
              "min        1.000000  \n",
              "25%       42.000000  \n",
              "50%      145.000000  \n",
              "75%      284.000000  \n",
              "max      977.000000  "
            ],
            "text/html": [
              "\n",
              "  <div id=\"df-697417d9-ead5-48c8-875d-c44263ee426d\">\n",
              "    <div class=\"colab-df-container\">\n",
              "      <div>\n",
              "<style scoped>\n",
              "    .dataframe tbody tr th:only-of-type {\n",
              "        vertical-align: middle;\n",
              "    }\n",
              "\n",
              "    .dataframe tbody tr th {\n",
              "        vertical-align: top;\n",
              "    }\n",
              "\n",
              "    .dataframe thead th {\n",
              "        text-align: right;\n",
              "    }\n",
              "</style>\n",
              "<table border=\"1\" class=\"dataframe\">\n",
              "  <thead>\n",
              "    <tr style=\"text-align: right;\">\n",
              "      <th></th>\n",
              "      <th>season</th>\n",
              "      <th>holiday</th>\n",
              "      <th>workingday</th>\n",
              "      <th>weather</th>\n",
              "      <th>temp</th>\n",
              "      <th>atemp</th>\n",
              "      <th>humidity</th>\n",
              "      <th>windspeed</th>\n",
              "      <th>casual</th>\n",
              "      <th>registered</th>\n",
              "      <th>count</th>\n",
              "    </tr>\n",
              "  </thead>\n",
              "  <tbody>\n",
              "    <tr>\n",
              "      <th>count</th>\n",
              "      <td>10886.000000</td>\n",
              "      <td>10886.000000</td>\n",
              "      <td>10886.000000</td>\n",
              "      <td>10886.000000</td>\n",
              "      <td>10886.00000</td>\n",
              "      <td>10886.000000</td>\n",
              "      <td>10886.000000</td>\n",
              "      <td>10886.000000</td>\n",
              "      <td>10886.000000</td>\n",
              "      <td>10886.000000</td>\n",
              "      <td>10886.000000</td>\n",
              "    </tr>\n",
              "    <tr>\n",
              "      <th>mean</th>\n",
              "      <td>2.506614</td>\n",
              "      <td>0.028569</td>\n",
              "      <td>0.680875</td>\n",
              "      <td>1.418427</td>\n",
              "      <td>20.23086</td>\n",
              "      <td>23.655084</td>\n",
              "      <td>61.886460</td>\n",
              "      <td>12.799395</td>\n",
              "      <td>36.021955</td>\n",
              "      <td>155.552177</td>\n",
              "      <td>191.574132</td>\n",
              "    </tr>\n",
              "    <tr>\n",
              "      <th>std</th>\n",
              "      <td>1.116174</td>\n",
              "      <td>0.166599</td>\n",
              "      <td>0.466159</td>\n",
              "      <td>0.633839</td>\n",
              "      <td>7.79159</td>\n",
              "      <td>8.474601</td>\n",
              "      <td>19.245033</td>\n",
              "      <td>8.164537</td>\n",
              "      <td>49.960477</td>\n",
              "      <td>151.039033</td>\n",
              "      <td>181.144454</td>\n",
              "    </tr>\n",
              "    <tr>\n",
              "      <th>min</th>\n",
              "      <td>1.000000</td>\n",
              "      <td>0.000000</td>\n",
              "      <td>0.000000</td>\n",
              "      <td>1.000000</td>\n",
              "      <td>0.82000</td>\n",
              "      <td>0.760000</td>\n",
              "      <td>0.000000</td>\n",
              "      <td>0.000000</td>\n",
              "      <td>0.000000</td>\n",
              "      <td>0.000000</td>\n",
              "      <td>1.000000</td>\n",
              "    </tr>\n",
              "    <tr>\n",
              "      <th>25%</th>\n",
              "      <td>2.000000</td>\n",
              "      <td>0.000000</td>\n",
              "      <td>0.000000</td>\n",
              "      <td>1.000000</td>\n",
              "      <td>13.94000</td>\n",
              "      <td>16.665000</td>\n",
              "      <td>47.000000</td>\n",
              "      <td>7.001500</td>\n",
              "      <td>4.000000</td>\n",
              "      <td>36.000000</td>\n",
              "      <td>42.000000</td>\n",
              "    </tr>\n",
              "    <tr>\n",
              "      <th>50%</th>\n",
              "      <td>3.000000</td>\n",
              "      <td>0.000000</td>\n",
              "      <td>1.000000</td>\n",
              "      <td>1.000000</td>\n",
              "      <td>20.50000</td>\n",
              "      <td>24.240000</td>\n",
              "      <td>62.000000</td>\n",
              "      <td>12.998000</td>\n",
              "      <td>17.000000</td>\n",
              "      <td>118.000000</td>\n",
              "      <td>145.000000</td>\n",
              "    </tr>\n",
              "    <tr>\n",
              "      <th>75%</th>\n",
              "      <td>4.000000</td>\n",
              "      <td>0.000000</td>\n",
              "      <td>1.000000</td>\n",
              "      <td>2.000000</td>\n",
              "      <td>26.24000</td>\n",
              "      <td>31.060000</td>\n",
              "      <td>77.000000</td>\n",
              "      <td>16.997900</td>\n",
              "      <td>49.000000</td>\n",
              "      <td>222.000000</td>\n",
              "      <td>284.000000</td>\n",
              "    </tr>\n",
              "    <tr>\n",
              "      <th>max</th>\n",
              "      <td>4.000000</td>\n",
              "      <td>1.000000</td>\n",
              "      <td>1.000000</td>\n",
              "      <td>4.000000</td>\n",
              "      <td>41.00000</td>\n",
              "      <td>45.455000</td>\n",
              "      <td>100.000000</td>\n",
              "      <td>56.996900</td>\n",
              "      <td>367.000000</td>\n",
              "      <td>886.000000</td>\n",
              "      <td>977.000000</td>\n",
              "    </tr>\n",
              "  </tbody>\n",
              "</table>\n",
              "</div>\n",
              "      <button class=\"colab-df-convert\" onclick=\"convertToInteractive('df-697417d9-ead5-48c8-875d-c44263ee426d')\"\n",
              "              title=\"Convert this dataframe to an interactive table.\"\n",
              "              style=\"display:none;\">\n",
              "        \n",
              "  <svg xmlns=\"http://www.w3.org/2000/svg\" height=\"24px\"viewBox=\"0 0 24 24\"\n",
              "       width=\"24px\">\n",
              "    <path d=\"M0 0h24v24H0V0z\" fill=\"none\"/>\n",
              "    <path d=\"M18.56 5.44l.94 2.06.94-2.06 2.06-.94-2.06-.94-.94-2.06-.94 2.06-2.06.94zm-11 1L8.5 8.5l.94-2.06 2.06-.94-2.06-.94L8.5 2.5l-.94 2.06-2.06.94zm10 10l.94 2.06.94-2.06 2.06-.94-2.06-.94-.94-2.06-.94 2.06-2.06.94z\"/><path d=\"M17.41 7.96l-1.37-1.37c-.4-.4-.92-.59-1.43-.59-.52 0-1.04.2-1.43.59L10.3 9.45l-7.72 7.72c-.78.78-.78 2.05 0 2.83L4 21.41c.39.39.9.59 1.41.59.51 0 1.02-.2 1.41-.59l7.78-7.78 2.81-2.81c.8-.78.8-2.07 0-2.86zM5.41 20L4 18.59l7.72-7.72 1.47 1.35L5.41 20z\"/>\n",
              "  </svg>\n",
              "      </button>\n",
              "      \n",
              "  <style>\n",
              "    .colab-df-container {\n",
              "      display:flex;\n",
              "      flex-wrap:wrap;\n",
              "      gap: 12px;\n",
              "    }\n",
              "\n",
              "    .colab-df-convert {\n",
              "      background-color: #E8F0FE;\n",
              "      border: none;\n",
              "      border-radius: 50%;\n",
              "      cursor: pointer;\n",
              "      display: none;\n",
              "      fill: #1967D2;\n",
              "      height: 32px;\n",
              "      padding: 0 0 0 0;\n",
              "      width: 32px;\n",
              "    }\n",
              "\n",
              "    .colab-df-convert:hover {\n",
              "      background-color: #E2EBFA;\n",
              "      box-shadow: 0px 1px 2px rgba(60, 64, 67, 0.3), 0px 1px 3px 1px rgba(60, 64, 67, 0.15);\n",
              "      fill: #174EA6;\n",
              "    }\n",
              "\n",
              "    [theme=dark] .colab-df-convert {\n",
              "      background-color: #3B4455;\n",
              "      fill: #D2E3FC;\n",
              "    }\n",
              "\n",
              "    [theme=dark] .colab-df-convert:hover {\n",
              "      background-color: #434B5C;\n",
              "      box-shadow: 0px 1px 3px 1px rgba(0, 0, 0, 0.15);\n",
              "      filter: drop-shadow(0px 1px 2px rgba(0, 0, 0, 0.3));\n",
              "      fill: #FFFFFF;\n",
              "    }\n",
              "  </style>\n",
              "\n",
              "      <script>\n",
              "        const buttonEl =\n",
              "          document.querySelector('#df-697417d9-ead5-48c8-875d-c44263ee426d button.colab-df-convert');\n",
              "        buttonEl.style.display =\n",
              "          google.colab.kernel.accessAllowed ? 'block' : 'none';\n",
              "\n",
              "        async function convertToInteractive(key) {\n",
              "          const element = document.querySelector('#df-697417d9-ead5-48c8-875d-c44263ee426d');\n",
              "          const dataTable =\n",
              "            await google.colab.kernel.invokeFunction('convertToInteractive',\n",
              "                                                     [key], {});\n",
              "          if (!dataTable) return;\n",
              "\n",
              "          const docLinkHtml = 'Like what you see? Visit the ' +\n",
              "            '<a target=\"_blank\" href=https://colab.research.google.com/notebooks/data_table.ipynb>data table notebook</a>'\n",
              "            + ' to learn more about interactive tables.';\n",
              "          element.innerHTML = '';\n",
              "          dataTable['output_type'] = 'display_data';\n",
              "          await google.colab.output.renderOutput(dataTable, element);\n",
              "          const docLink = document.createElement('div');\n",
              "          docLink.innerHTML = docLinkHtml;\n",
              "          element.appendChild(docLink);\n",
              "        }\n",
              "      </script>\n",
              "    </div>\n",
              "  </div>\n",
              "  "
            ]
          },
          "metadata": {},
          "execution_count": 10
        }
      ]
    },
    {
      "cell_type": "markdown",
      "source": [
        "**Correlation among different factors using heat map**"
      ],
      "metadata": {
        "id": "rJvsloRWkuNP"
      }
    },
    {
      "cell_type": "code",
      "source": [
        "plt.figure(figsize=(12,6))\n",
        "sns.heatmap(df.corr(),cmap='coolwarm',annot=True,linecolor='white',linewidths=1)"
      ],
      "metadata": {
        "colab": {
          "base_uri": "https://localhost:8080/",
          "height": 443
        },
        "id": "fElYKG9hkslZ",
        "outputId": "4579c483-17d1-4e43-83f4-41bff70ffe25"
      },
      "execution_count": null,
      "outputs": [
        {
          "output_type": "execute_result",
          "data": {
            "text/plain": [
              "<matplotlib.axes._subplots.AxesSubplot at 0x7f283560e290>"
            ]
          },
          "metadata": {},
          "execution_count": 11
        },
        {
          "output_type": "display_data",
          "data": {
            "text/plain": [
              "<Figure size 864x432 with 2 Axes>"
            ],
            "image/png": "[encoded data removed]"
          },
          "metadata": {
            "needs_background": "light"
          }
        }
      ]
    },
    {
      "cell_type": "code",
      "source": [
        "df_yulu=df.copy()"
      ],
      "metadata": {
        "id": "_bgqfliB06pv"
      },
      "execution_count": null,
      "outputs": []
    },
    {
      "cell_type": "code",
      "source": [
        "df_yulu.season.unique()\n",
        "df.columns"
      ],
      "metadata": {
        "colab": {
          "base_uri": "https://localhost:8080/"
        },
        "id": "ag_AnkWy3mvU",
        "outputId": "7cb8f95f-cb0f-46da-e5f2-c482217516a1"
      },
      "execution_count": null,
      "outputs": [
        {
          "output_type": "execute_result",
          "data": {
            "text/plain": [
              "Index(['datetime', 'season', 'holiday', 'workingday', 'weather', 'temp',\n",
              "       'atemp', 'humidity', 'windspeed', 'casual', 'registered', 'count'],\n",
              "      dtype='object')"
            ]
          },
          "metadata": {},
          "execution_count": 13
        }
      ]
    },
    {
      "cell_type": "markdown",
      "source": [
        "# **Univariante Analysis**"
      ],
      "metadata": {
        "id": "lYBmC82U_gfr"
      }
    },
    {
      "cell_type": "markdown",
      "source": [
        "**Conversion of categorical attributes to 'category'**"
      ],
      "metadata": {
        "id": "t9A4m_bd8LOx"
      }
    },
    {
      "cell_type": "code",
      "source": [
        "def season(df_yulu):\n",
        "  if df_yulu['season']== 1:return 'spring'\n",
        "  elif df_yulu['season']==2:return 'summer'\n",
        "  elif df_yulu['season']==3:return 'fall'\n",
        "  else:return 'winter'\n",
        "\n",
        "df_yulu['season'] = df_yulu.apply(season, axis=1)"
      ],
      "metadata": {
        "id": "WrCQP13r56_-"
      },
      "execution_count": null,
      "outputs": []
    },
    {
      "cell_type": "code",
      "source": [
        "def workingday(df_yulu):\n",
        "  if df_yulu['workingday']== 1:return 'weekday'\n",
        "  else:return 'weekend/holiday'\n",
        " \n",
        "df_yulu['workingday'] = df_yulu.apply(workingday, axis=1)"
      ],
      "metadata": {
        "id": "rRrGFiBn7ZlX"
      },
      "execution_count": null,
      "outputs": []
    },
    {
      "cell_type": "code",
      "source": [
        "df_yulu.select_dtypes(include=['object']).columns.tolist()"
      ],
      "metadata": {
        "colab": {
          "base_uri": "https://localhost:8080/"
        },
        "id": "MABMYlo885tq",
        "outputId": "7070e2ef-06f3-41dd-954e-01deac5cbb8b"
      },
      "execution_count": null,
      "outputs": [
        {
          "output_type": "execute_result",
          "data": {
            "text/plain": [
              "['datetime', 'season', 'workingday']"
            ]
          },
          "metadata": {},
          "execution_count": 16
        }
      ]
    },
    {
      "cell_type": "code",
      "source": [
        "df_yulu.select_dtypes(exclude=['object']).columns.tolist()"
      ],
      "metadata": {
        "colab": {
          "base_uri": "https://localhost:8080/"
        },
        "id": "xbU2VK-8-iAg",
        "outputId": "8e6d7cd0-ab53-4698-b590-25095a2f77fa"
      },
      "execution_count": null,
      "outputs": [
        {
          "output_type": "execute_result",
          "data": {
            "text/plain": [
              "['holiday',\n",
              " 'weather',\n",
              " 'temp',\n",
              " 'atemp',\n",
              " 'humidity',\n",
              " 'windspeed',\n",
              " 'casual',\n",
              " 'registered',\n",
              " 'count']"
            ]
          },
          "metadata": {},
          "execution_count": 17
        }
      ]
    },
    {
      "cell_type": "code",
      "source": [
        "# count plot on single categorical variable\n",
        "plt.figure(figsize=(12,6))\n",
        "plt.title('Distribution of working/non working days')\n",
        "sns.countplot(x ='workingday', data = df_yulu)\n",
        "plt.show()\n"
      ],
      "metadata": {
        "colab": {
          "base_uri": "https://localhost:8080/",
          "height": 404
        },
        "id": "lwGtm8AP-ssI",
        "outputId": "49aa5308-280d-4f63-c8f0-53b95cba82d8"
      },
      "execution_count": null,
      "outputs": [
        {
          "output_type": "display_data",
          "data": {
            "text/plain": [
              "<Figure size 864x432 with 1 Axes>"
            ],
            "image/png": "[encoded data removed]"
          },
          "metadata": {
            "needs_background": "light"
          }
        }
      ]
    },
    {
      "cell_type": "code",
      "source": [
        "# count plot on single categorical variable\n",
        "plt.figure(figsize=(12,5))\n",
        "plt.title('Seasonwise rental bike demand ')\n",
        "df_yulu['season'].value_counts().plot.pie(autopct='%1.1f%%',shadow = True)\n",
        "# Show the plot\n",
        "plt.show()"
      ],
      "metadata": {
        "colab": {
          "base_uri": "https://localhost:8080/",
          "height": 319
        },
        "id": "1DbVmDGzAsQD",
        "outputId": "acd92438-440b-4135-e2a5-747e6e3868b7"
      },
      "execution_count": null,
      "outputs": [
        {
          "output_type": "display_data",
          "data": {
            "text/plain": [
              "<Figure size 864x360 with 1 Axes>"
            ],
            "image/png": "[encoded data removed]"
          },
          "metadata": {}
        }
      ]
    },
    {
      "cell_type": "markdown",
      "source": [
        "** *italicized text*Bivariate Analysis**\n",
        "(Relationships between important variables such as workday and count, season and count, weather and count)"
      ],
      "metadata": {
        "id": "DKxOfj4IGZlY"
      }
    },
    {
      "cell_type": "code",
      "source": [
        "plt.figure(figsize=(12,5))\n",
        "plt.title('Relationships between workday and count of casual users')\n",
        "sns.barplot(x='workingday',y='casual',data=df_yulu)\n",
        "plt.show()"
      ],
      "metadata": {
        "colab": {
          "base_uri": "https://localhost:8080/",
          "height": 350
        },
        "id": "VD1ewVanmtkP",
        "outputId": "e72bb6b9-ed46-4430-e3b3-d1bff8b3c3f5"
      },
      "execution_count": null,
      "outputs": [
        {
          "output_type": "display_data",
          "data": {
            "text/plain": [
              "<Figure size 864x360 with 1 Axes>"
            ],
            "image/png": "[encoded data removed]"
          },
          "metadata": {
            "needs_background": "light"
          }
        }
      ]
    },
    {
      "cell_type": "markdown",
      "source": [
        "**INSIGHT:** Casual users prefer to get the rented bikes on weekend/holiday"
      ],
      "metadata": {
        "id": "LNgeBgGtm6Cx"
      }
    },
    {
      "cell_type": "code",
      "source": [
        "plt.figure(figsize=(12,5))\n",
        "plt.title('Relationships between workday and count of registered users')\n",
        "sns.barplot(x='workingday',y='registered',data=df_yulu)\n",
        "plt.show()"
      ],
      "metadata": {
        "colab": {
          "base_uri": "https://localhost:8080/",
          "height": 350
        },
        "id": "oMam4RF-mwSU",
        "outputId": "c9621526-e279-4143-d0bc-0f4503c9e51f"
      },
      "execution_count": null,
      "outputs": [
        {
          "output_type": "display_data",
          "data": {
            "text/plain": [
              "<Figure size 864x360 with 1 Axes>"
            ],
            "image/png": "[encoded data removed]"
          },
          "metadata": {
            "needs_background": "light"
          }
        }
      ]
    },
    {
      "cell_type": "markdown",
      "source": [
        "**INSIGHT:** Registered users prefer to get the rented bikes on weekday."
      ],
      "metadata": {
        "id": "R6GONDA1nE9f"
      }
    },
    {
      "cell_type": "code",
      "source": [
        "plt.figure(figsize=(12,5))\n",
        "plt.title('Relationships between workday and count of total rental bikes')\n",
        "sns.barplot(x='workingday',y='count',data=df_yulu)\n",
        "plt.show()"
      ],
      "metadata": {
        "colab": {
          "base_uri": "https://localhost:8080/",
          "height": 350
        },
        "id": "xidu0LZvAxEH",
        "outputId": "df68f1ee-4162-4193-b771-dbe5f54cca53"
      },
      "execution_count": null,
      "outputs": [
        {
          "output_type": "display_data",
          "data": {
            "text/plain": [
              "<Figure size 864x360 with 1 Axes>"
            ],
            "image/png": "[encoded data removed]"
          },
          "metadata": {
            "needs_background": "light"
          }
        }
      ]
    },
    {
      "cell_type": "markdown",
      "source": [
        "**INSIGHT:** Users prefer to hire a bike on weekdays mostly"
      ],
      "metadata": {
        "id": "cR1zX2LVIGt5"
      }
    },
    {
      "cell_type": "code",
      "source": [
        "plt.figure(figsize=(12,5))\n",
        "plt.title('Relationship between season and count of total rental bikes')\n",
        "sns.barplot(x='season',y='count',data=df_yulu)\n",
        "plt.show()"
      ],
      "metadata": {
        "colab": {
          "base_uri": "https://localhost:8080/",
          "height": 350
        },
        "id": "yn0_ql7FGcHX",
        "outputId": "64bf69a4-44dc-4a4e-871f-d553633cb8ca"
      },
      "execution_count": null,
      "outputs": [
        {
          "output_type": "display_data",
          "data": {
            "text/plain": [
              "<Figure size 864x360 with 1 Axes>"
            ],
            "image/png": "[encoded data removed]"
          },
          "metadata": {
            "needs_background": "light"
          }
        }
      ]
    },
    {
      "cell_type": "markdown",
      "source": [
        "**INSIGHT:** Users prefer to get rented bike in Autumn mostly, followed by summer and winter.Least users prefer rented bikes in spring."
      ],
      "metadata": {
        "id": "C40c1_w_IXX2"
      }
    },
    {
      "cell_type": "code",
      "source": [
        "plt.figure(figsize=(12,5))\n",
        "plt.title('Relationships between weather and count of total rental bikes')\n",
        "#'1: Clear, Few clouds, partly cloudy, partly cloudy'\n",
        "plt.ylabel('Count of rental bikes')\n",
        "sns.scatterplot(x='weather',y='count',data=df_yulu)\n",
        "plt.show()"
      ],
      "metadata": {
        "colab": {
          "base_uri": "https://localhost:8080/",
          "height": 350
        },
        "id": "VwaRmxw_H3zQ",
        "outputId": "b50f691d-64e8-4b77-fd6c-0374ac89cff2"
      },
      "execution_count": null,
      "outputs": [
        {
          "output_type": "display_data",
          "data": {
            "text/plain": [
              "<Figure size 864x360 with 1 Axes>"
            ],
            "image/png": "[encoded data removed]"
          },
          "metadata": {
            "needs_background": "light"
          }
        }
      ]
    },
    {
      "cell_type": "markdown",
      "source": [
        "**INSIGHT:** Users prefer to rent bikes in weather with few clouds or partly cloudy or partly cloudy"
      ],
      "metadata": {
        "id": "YyW_GqdyIm8c"
      }
    },
    {
      "cell_type": "markdown",
      "source": [
        "#**Test on the sample of Working/Non-Working Days' effect on number of electric cycles rented**"
      ],
      "metadata": {
        "id": "MvUBGrijOQXd"
      }
    },
    {
      "cell_type": "code",
      "source": [
        "df_working=df[df['workingday']==1]\n",
        "df_nonworking=df[df['workingday']==0]"
      ],
      "metadata": {
        "id": "Qc90eRtTfq6g"
      },
      "execution_count": null,
      "outputs": []
    },
    {
      "cell_type": "code",
      "source": [
        "print(df_working.shape,df_nonworking.shape)"
      ],
      "metadata": {
        "colab": {
          "base_uri": "https://localhost:8080/"
        },
        "id": "b8wxu3J4Os_5",
        "outputId": "581278d9-4a99-4da3-c55c-24b05db21c45"
      },
      "execution_count": null,
      "outputs": [
        {
          "output_type": "stream",
          "name": "stdout",
          "text": [
            "(7412, 12) (3474, 12)\n"
          ]
        }
      ]
    },
    {
      "cell_type": "code",
      "source": [
        "df_working=df_working.sample(3474)\n",
        "print(df_working.shape,df_nonworking.shape)"
      ],
      "metadata": {
        "colab": {
          "base_uri": "https://localhost:8080/"
        },
        "id": "B_VlLaU-O17W",
        "outputId": "84b1cb27-ad25-4679-d2b1-0e549f0014a6"
      },
      "execution_count": null,
      "outputs": [
        {
          "output_type": "stream",
          "name": "stdout",
          "text": [
            "(3474, 12) (3474, 12)\n"
          ]
        }
      ]
    },
    {
      "cell_type": "markdown",
      "source": [
        "#**Levene's test to check whether the variances of the two group are same or not**\n",
        "\n",
        "Equality of Variance Test:Performing equivalence check by using Levene's test.\n",
        "\n",
        "The hypothesis of this test are:\n",
        "\n",
        "Ho - Variances are equal\n",
        "\n",
        "Ha - Variances are not equal"
      ],
      "metadata": {
        "id": "_PQQmdD9vQnk"
      }
    },
    {
      "cell_type": "code",
      "source": [
        "alpha=0.05\n",
        "Stats, p_value = levene(df_working['count'], df_nonworking['count'])\n",
        "print(f'p value = {p_value}')\n",
        "if p_value >= alpha:\n",
        "    print('We fail to reject the Null Hypothesis Ho')\n",
        "else:\n",
        "    print('We reject the Null Hypothesis Ho')"
      ],
      "metadata": {
        "colab": {
          "base_uri": "https://localhost:8080/"
        },
        "id": "rkONJcj7vOFn",
        "outputId": "5f57b702-b090-4d84-e832-0a6d36f4d4b0"
      },
      "execution_count": null,
      "outputs": [
        {
          "output_type": "stream",
          "name": "stdout",
          "text": [
            "p value = 0.922859507676314\n",
            "We fail to reject the Null Hypothesis Ho\n"
          ]
        }
      ]
    },
    {
      "cell_type": "markdown",
      "source": [
        "**Insight:** In this case p_value is greater than alpha(0.05).It means that \n",
        "variance are equal of working days and non working days."
      ],
      "metadata": {
        "id": "rQVFwZYW-FJz"
      }
    },
    {
      "cell_type": "markdown",
      "source": [
        "# **Normality Test:** \n",
        "We have taken the difference between samples of demands of rental bikes on working and non working days and scale it to check the normality.\n",
        "\n",
        "#**Performing normality check using Shapiro-Wilk Test**\n",
        "\n",
        "The hypothesis of this test are:\n",
        "\n",
        "Ho - series is normal\n",
        "\n",
        "Ha - series is not normal"
      ],
      "metadata": {
        "id": "gdcVij7ENzI0"
      }
    },
    {
      "cell_type": "code",
      "source": [
        "#Shapiro-Wilk Test\n",
        "diff_userscount = scale((np.array(df_working['count']) - np.array(df_nonworking['count'])))\n",
        "stat, p = shapiro(diff_userscount)\n",
        "print('stat=%.2f, p=%.30f' % (stat, p))\n",
        "\n",
        "if p > alpha:\n",
        "    print('Normal distribution/Accept Null Hypothesis')\n",
        "else:\n",
        "    print('Not a normal distribution/Reject Null Hypothesis')"
      ],
      "metadata": {
        "colab": {
          "base_uri": "https://localhost:8080/"
        },
        "id": "HixaHEOkTeB1",
        "outputId": "d13781fd-8c05-4590-ac15-10d147045bcb"
      },
      "execution_count": null,
      "outputs": [
        {
          "output_type": "stream",
          "name": "stdout",
          "text": [
            "stat=0.99, p=0.000000000000007156341661027511\n",
            "Not a normal distribution/Reject Null Hypothesis\n"
          ]
        }
      ]
    },
    {
      "cell_type": "markdown",
      "source": [
        "**INSIGHTS:** As the p value which is less than alpha(0.05) then the null hypothesis is rejected i.e. we have sufficient evidence to say that sample does not come from a normal distribution."
      ],
      "metadata": {
        "id": "zD2C64WMfrxi"
      }
    },
    {
      "cell_type": "markdown",
      "source": [
        "# **Q-Q plot**\n"
      ],
      "metadata": {
        "id": "lr2ld65UCH53"
      }
    },
    {
      "cell_type": "code",
      "source": [
        "#q-q plot to check the normality\n",
        "plt.figure(figsize=(10,5))\n",
        "stats.probplot(diff_userscount,plot=plt,dist='norm')\n",
        "plt.show()"
      ],
      "metadata": {
        "colab": {
          "base_uri": "https://localhost:8080/",
          "height": 350
        },
        "id": "-r3zKl5US2U4",
        "outputId": "e44e7e77-59f0-490b-80e3-a06e8bd05fec"
      },
      "execution_count": null,
      "outputs": [
        {
          "output_type": "display_data",
          "data": {
            "text/plain": [
              "<Figure size 720x360 with 1 Axes>"
            ],
            "image/png": "[encoded data removed]"
          },
          "metadata": {
            "needs_background": "light"
          }
        }
      ]
    },
    {
      "cell_type": "markdown",
      "source": [
        "**INSIGHT:** Most of the points are on red line but still few points are away from it.We can assume the distribution as normal"
      ],
      "metadata": {
        "id": "STfQny0_c2tp"
      }
    },
    {
      "cell_type": "markdown",
      "source": [
        "# **Histogram plot**\n"
      ],
      "metadata": {
        "id": "7JvrASxUCSqo"
      }
    },
    {
      "cell_type": "code",
      "source": [
        "#Plot histogram to check the normality\n",
        "diff_userscount = scale((np.array(df_working['count']) - np.array(df_nonworking['count'])))\n",
        "plt.figure(figsize=(12,6))\n",
        "plt.hist(diff_userscount)\n",
        "plt.show()"
      ],
      "metadata": {
        "colab": {
          "base_uri": "https://localhost:8080/",
          "height": 374
        },
        "id": "P58coKvbP3_2",
        "outputId": "9e906df1-b761-4cab-c398-5c8aff50e4c8"
      },
      "execution_count": null,
      "outputs": [
        {
          "output_type": "display_data",
          "data": {
            "text/plain": [
              "<Figure size 864x432 with 1 Axes>"
            ],
            "image/png": "[encoded data removed]"
          },
          "metadata": {
            "needs_background": "light"
          }
        }
      ]
    },
    {
      "cell_type": "markdown",
      "source": [
        "**INSIGHT:** The distribution is quite close to the normal distribution."
      ],
      "metadata": {
        "id": "0druewDFSxPd"
      }
    },
    {
      "cell_type": "markdown",
      "source": [
        "#**2- Sample T-Test:**\n",
        "\n",
        "Assumptions of data for t-test:\n",
        "\n",
        "1.Independent.\n",
        "\n",
        "2.Approximately normally distributed.\n",
        "\n",
        "3.Having a similar amount of variance within each group being compared.\n",
        "\n",
        "**NOTE:**\n",
        "As per the Shapiro wilk test's result ,the residuals are not normally distributed. We should not perform t-test when the assumption is voilated.\n",
        "But as per the question's requirement ,we have to perform T-Test.\n",
        "\n",
        "\n",
        "#To check if working day has an effect on the number of electric cycles rented "
      ],
      "metadata": {
        "id": "u8ayrcIG9WrD"
      }
    },
    {
      "cell_type": "code",
      "source": [
        "# H0 : Bike rental doesn't depend on workingday\n",
        "# H1 : Bike rental depends on workingday\n",
        "# Alpha : 0.05%\n",
        "from scipy import stats\n",
        "alpha = 0.05\n",
        "stats , p_value = stats.ttest_ind(df_working['count'],df_nonworking['count'])\n",
        "if p_value > alpha:\n",
        "  print(f'Fail to reject Null Hypothesis p-value is {p_value}')\n",
        "else:\n",
        "  print('Reject Null Hypothesis')"
      ],
      "metadata": {
        "colab": {
          "base_uri": "https://localhost:8080/"
        },
        "id": "yoSBRUavgOxN",
        "outputId": "3fa490e2-2a33-43a8-a799-8c4bc5673084"
      },
      "execution_count": null,
      "outputs": [
        {
          "output_type": "stream",
          "name": "stdout",
          "text": [
            "Fail to reject Null Hypothesis p-value is 0.45736655541437243\n"
          ]
        }
      ]
    },
    {
      "cell_type": "markdown",
      "source": [
        "**INSIGHT:** P-value is greater than alpha that is 0.05.It means that we fail to reject null hyposthesis. \n",
        "Bike rental doesn't depend on working day."
      ],
      "metadata": {
        "id": "RJQTDKJ1hV5U"
      }
    },
    {
      "cell_type": "markdown",
      "source": [
        "# **ANNOVA TEST**\n",
        "\n",
        "#**To check if number of cycles rented is similar or different in different weather: Performing one way annova test**\n",
        "\n",
        "H0 : There is no difference in the mean\n",
        "\n",
        "H1 : There is a difference in the mean"
      ],
      "metadata": {
        "id": "QlxPn0kmTNe3"
      }
    },
    {
      "cell_type": "code",
      "source": [
        "alpha = 0.05\n",
        "Stats,p_value = stats.f_oneway(df['count'][df['weather']==1],df['count'][df['weather']==2],df['count'][df['weather']==3],df['count'][df['weather']==4])\n",
        "\n",
        "if p_value > alpha :\n",
        "  print(' Failed to reject null hypothesis \\n No. of cycles rented is similar in different weather \\n p-value :',p_value)\n",
        "else:\n",
        "  print(' Reject null hypothesis \\n No. of cycles rented is different in different weather\\n p-value : ',p_value)"
      ],
      "metadata": {
        "colab": {
          "base_uri": "https://localhost:8080/"
        },
        "id": "3XdoWc6wIMRZ",
        "outputId": "07d2b7b8-baca-45b9-9bd4-286fa7ca20ca"
      },
      "execution_count": null,
      "outputs": [
        {
          "output_type": "stream",
          "name": "stdout",
          "text": [
            " Reject null hypothesis \n",
            " No. of cycles rented is different in different weather\n",
            " p-value :  5.482069475935669e-42\n"
          ]
        }
      ]
    },
    {
      "cell_type": "markdown",
      "source": [
        "**INSIGHT** \n",
        "p-value is less than alpha which means that the weather situation impact the number of bike rentals.\n",
        "Using one way anova we only know that the means of groups(count of users for different weather) are not same."
      ],
      "metadata": {
        "id": "tBiwYrNzNNQW"
      }
    },
    {
      "cell_type": "markdown",
      "source": [
        "#**To check if number of cycles rented is similar or different in different season: Performing one way annova test**"
      ],
      "metadata": {
        "id": "WQJdsm_fWWmx"
      }
    },
    {
      "cell_type": "code",
      "source": [
        "Stats,p_value = stats.f_oneway(df['count'][df['season']==1],df['count'][df['season']==2],df['count'][df['season']==3],df['count'][df['season']==4])\n",
        "\n",
        "if p_value > alpha :\n",
        "  print(' Failed to reject null hypothesis \\n No. of cycles rented is similar in different seasons \\n p-value :',p_value)\n",
        "else:\n",
        "  print(' Reject null hypothesis \\n No. of cycles rented is different in different seasons \\n p-value : ',p_value)"
      ],
      "metadata": {
        "id": "X1n-LC1-Xa42",
        "colab": {
          "base_uri": "https://localhost:8080/"
        },
        "outputId": "c6948121-c064-465c-d886-a16c4efdb91c"
      },
      "execution_count": null,
      "outputs": [
        {
          "output_type": "stream",
          "name": "stdout",
          "text": [
            " Reject null hypothesis \n",
            " No. of cycles rented is different in different seasons \n",
            " p-value :  6.164843386499654e-149\n"
          ]
        }
      ]
    },
    {
      "cell_type": "markdown",
      "source": [
        "**INSIGHT**: \n",
        "p-value is less than alpha which means that demand of rental bikes are depend on seasons."
      ],
      "metadata": {
        "id": "NtrWlrZTX6jH"
      }
    },
    {
      "cell_type": "markdown",
      "source": [
        "#**Chi-square test to check if weather is dependent on the season**\n",
        "\n",
        "H0 : Weather is not dependent on Season\n",
        "\n",
        "H1 : Weather is dependent on Season\n",
        "\n",
        "Alpha : 0.05%\n",
        "\n",
        "Comparing two different categorical variables (weather and season)"
      ],
      "metadata": {
        "id": "3Et13zgfHNGd"
      }
    },
    {
      "cell_type": "code",
      "source": [
        "#Cross-tabulation analysis\n",
        "weather_season = pd.crosstab(df['weather'],df['season'])\n",
        "weather_season"
      ],
      "metadata": {
        "id": "CNJOsPFdFt5X",
        "colab": {
          "base_uri": "https://localhost:8080/",
          "height": 206
        },
        "outputId": "51254123-6cce-46dc-c03a-36464f477389"
      },
      "execution_count": null,
      "outputs": [
        {
          "output_type": "execute_result",
          "data": {
            "text/plain": [
              "season      1     2     3     4\n",
              "weather                        \n",
              "1        1759  1801  1930  1702\n",
              "2         715   708   604   807\n",
              "3         211   224   199   225\n",
              "4           1     0     0     0"
            ],
            "text/html": [
              "\n",
              "  <div id=\"df-e111aa4a-65f3-4e06-b46a-99d415c70cde\">\n",
              "    <div class=\"colab-df-container\">\n",
              "      <div>\n",
              "<style scoped>\n",
              "    .dataframe tbody tr th:only-of-type {\n",
              "        vertical-align: middle;\n",
              "    }\n",
              "\n",
              "    .dataframe tbody tr th {\n",
              "        vertical-align: top;\n",
              "    }\n",
              "\n",
              "    .dataframe thead th {\n",
              "        text-align: right;\n",
              "    }\n",
              "</style>\n",
              "<table border=\"1\" class=\"dataframe\">\n",
              "  <thead>\n",
              "    <tr style=\"text-align: right;\">\n",
              "      <th>season</th>\n",
              "      <th>1</th>\n",
              "      <th>2</th>\n",
              "      <th>3</th>\n",
              "      <th>4</th>\n",
              "    </tr>\n",
              "    <tr>\n",
              "      <th>weather</th>\n",
              "      <th></th>\n",
              "      <th></th>\n",
              "      <th></th>\n",
              "      <th></th>\n",
              "    </tr>\n",
              "  </thead>\n",
              "  <tbody>\n",
              "    <tr>\n",
              "      <th>1</th>\n",
              "      <td>1759</td>\n",
              "      <td>1801</td>\n",
              "      <td>1930</td>\n",
              "      <td>1702</td>\n",
              "    </tr>\n",
              "    <tr>\n",
              "      <th>2</th>\n",
              "      <td>715</td>\n",
              "      <td>708</td>\n",
              "      <td>604</td>\n",
              "      <td>807</td>\n",
              "    </tr>\n",
              "    <tr>\n",
              "      <th>3</th>\n",
              "      <td>211</td>\n",
              "      <td>224</td>\n",
              "      <td>199</td>\n",
              "      <td>225</td>\n",
              "    </tr>\n",
              "    <tr>\n",
              "      <th>4</th>\n",
              "      <td>1</td>\n",
              "      <td>0</td>\n",
              "      <td>0</td>\n",
              "      <td>0</td>\n",
              "    </tr>\n",
              "  </tbody>\n",
              "</table>\n",
              "</div>\n",
              "      <button class=\"colab-df-convert\" onclick=\"convertToInteractive('df-e111aa4a-65f3-4e06-b46a-99d415c70cde')\"\n",
              "              title=\"Convert this dataframe to an interactive table.\"\n",
              "              style=\"display:none;\">\n",
              "        \n",
              "  <svg xmlns=\"http://www.w3.org/2000/svg\" height=\"24px\"viewBox=\"0 0 24 24\"\n",
              "       width=\"24px\">\n",
              "    <path d=\"M0 0h24v24H0V0z\" fill=\"none\"/>\n",
              "    <path d=\"M18.56 5.44l.94 2.06.94-2.06 2.06-.94-2.06-.94-.94-2.06-.94 2.06-2.06.94zm-11 1L8.5 8.5l.94-2.06 2.06-.94-2.06-.94L8.5 2.5l-.94 2.06-2.06.94zm10 10l.94 2.06.94-2.06 2.06-.94-2.06-.94-.94-2.06-.94 2.06-2.06.94z\"/><path d=\"M17.41 7.96l-1.37-1.37c-.4-.4-.92-.59-1.43-.59-.52 0-1.04.2-1.43.59L10.3 9.45l-7.72 7.72c-.78.78-.78 2.05 0 2.83L4 21.41c.39.39.9.59 1.41.59.51 0 1.02-.2 1.41-.59l7.78-7.78 2.81-2.81c.8-.78.8-2.07 0-2.86zM5.41 20L4 18.59l7.72-7.72 1.47 1.35L5.41 20z\"/>\n",
              "  </svg>\n",
              "      </button>\n",
              "      \n",
              "  <style>\n",
              "    .colab-df-container {\n",
              "      display:flex;\n",
              "      flex-wrap:wrap;\n",
              "      gap: 12px;\n",
              "    }\n",
              "\n",
              "    .colab-df-convert {\n",
              "      background-color: #E8F0FE;\n",
              "      border: none;\n",
              "      border-radius: 50%;\n",
              "      cursor: pointer;\n",
              "      display: none;\n",
              "      fill: #1967D2;\n",
              "      height: 32px;\n",
              "      padding: 0 0 0 0;\n",
              "      width: 32px;\n",
              "    }\n",
              "\n",
              "    .colab-df-convert:hover {\n",
              "      background-color: #E2EBFA;\n",
              "      box-shadow: 0px 1px 2px rgba(60, 64, 67, 0.3), 0px 1px 3px 1px rgba(60, 64, 67, 0.15);\n",
              "      fill: #174EA6;\n",
              "    }\n",
              "\n",
              "    [theme=dark] .colab-df-convert {\n",
              "      background-color: #3B4455;\n",
              "      fill: #D2E3FC;\n",
              "    }\n",
              "\n",
              "    [theme=dark] .colab-df-convert:hover {\n",
              "      background-color: #434B5C;\n",
              "      box-shadow: 0px 1px 3px 1px rgba(0, 0, 0, 0.15);\n",
              "      filter: drop-shadow(0px 1px 2px rgba(0, 0, 0, 0.3));\n",
              "      fill: #FFFFFF;\n",
              "    }\n",
              "  </style>\n",
              "\n",
              "      <script>\n",
              "        const buttonEl =\n",
              "          document.querySelector('#df-e111aa4a-65f3-4e06-b46a-99d415c70cde button.colab-df-convert');\n",
              "        buttonEl.style.display =\n",
              "          google.colab.kernel.accessAllowed ? 'block' : 'none';\n",
              "\n",
              "        async function convertToInteractive(key) {\n",
              "          const element = document.querySelector('#df-e111aa4a-65f3-4e06-b46a-99d415c70cde');\n",
              "          const dataTable =\n",
              "            await google.colab.kernel.invokeFunction('convertToInteractive',\n",
              "                                                     [key], {});\n",
              "          if (!dataTable) return;\n",
              "\n",
              "          const docLinkHtml = 'Like what you see? Visit the ' +\n",
              "            '<a target=\"_blank\" href=https://colab.research.google.com/notebooks/data_table.ipynb>data table notebook</a>'\n",
              "            + ' to learn more about interactive tables.';\n",
              "          element.innerHTML = '';\n",
              "          dataTable['output_type'] = 'display_data';\n",
              "          await google.colab.output.renderOutput(dataTable, element);\n",
              "          const docLink = document.createElement('div');\n",
              "          docLink.innerHTML = docLinkHtml;\n",
              "          element.appendChild(docLink);\n",
              "        }\n",
              "      </script>\n",
              "    </div>\n",
              "  </div>\n",
              "  "
            ]
          },
          "metadata": {},
          "execution_count": 38
        }
      ]
    },
    {
      "cell_type": "code",
      "source": [
        "weather_season.plot(kind = 'bar')\n",
        "plt.title('Weather Vs Season')\n",
        "plt.xticks(rotation = 45)\n",
        "plt.show()"
      ],
      "metadata": {
        "id": "j6XmM_T6jl44",
        "colab": {
          "base_uri": "https://localhost:8080/",
          "height": 297
        },
        "outputId": "9450c51b-5f6d-4f7c-8bb3-0850a607c61b"
      },
      "execution_count": null,
      "outputs": [
        {
          "output_type": "display_data",
          "data": {
            "text/plain": [
              "<Figure size 432x288 with 1 Axes>"
            ],
            "image/png": "[encoded data removed]"
          },
          "metadata": {
            "needs_background": "light"
          }
        }
      ]
    },
    {
      "cell_type": "code",
      "source": [
        "t_stats, p_value, dof, expected_frequencies  = stats.chi2_contingency(weather_season)\n",
        "#stat, p, dof, expected\n",
        "print(f\" Chi-square statististics value = {t_stats} \\n p-value = {p_value} \\n degrees of freedom = {dof} \\n Array of expected frequenies = {expected_frequencies}\")"
      ],
      "metadata": {
        "id": "g2vkyvRdlLFa",
        "colab": {
          "base_uri": "https://localhost:8080/"
        },
        "outputId": "04b3f691-2574-4f7f-a284-75d144bf2012"
      },
      "execution_count": null,
      "outputs": [
        {
          "output_type": "stream",
          "name": "stdout",
          "text": [
            " Chi-square statististics value = 49.15865559689363 \n",
            " p-value = 1.5499250736864862e-07 \n",
            " degrees of freedom = 9 \n",
            " Array of expected frequenies = [[1.77454639e+03 1.80559765e+03 1.80559765e+03 1.80625831e+03]\n",
            " [6.99258130e+02 7.11493845e+02 7.11493845e+02 7.11754180e+02]\n",
            " [2.11948742e+02 2.15657450e+02 2.15657450e+02 2.15736359e+02]\n",
            " [2.46738931e-01 2.51056403e-01 2.51056403e-01 2.51148264e-01]]\n"
          ]
        }
      ]
    },
    {
      "cell_type": "code",
      "source": [
        "stats,p_value,degrees_of_freedom,expected = chi2_contingency(weather_season)\n",
        "if p_value > alpha:\n",
        "  print(f' Accept Null Hypothesis\\n P-Value = {p_value}\\n Weather is not dependent on Season')\n",
        "else:\n",
        "  print(f' Reject Null Hypothesis\\n P-Value = {p_value}\\n Weather is dependent on Season')"
      ],
      "metadata": {
        "id": "lwMEv40YGqCm",
        "colab": {
          "base_uri": "https://localhost:8080/"
        },
        "outputId": "1bae6ee6-d9d1-47de-e272-a1aacaab62d4"
      },
      "execution_count": null,
      "outputs": [
        {
          "output_type": "stream",
          "name": "stdout",
          "text": [
            " Reject Null Hypothesis\n",
            " P-Value = 1.5499250736864862e-07\n",
            " Weather is dependent on Season\n"
          ]
        }
      ]
    },
    {
      "cell_type": "markdown",
      "source": [
        "**INSIGHT**: As p-value is less than alpha which concluded that weather is dependent on Season."
      ],
      "metadata": {
        "id": "VdPO5Jyy0mNc"
      }
    },
    {
      "cell_type": "markdown",
      "source": [
        "\n",
        "# **Recommendations**\n",
        "\n",
        "1)Users prefer to get rented bike in fall/Autumn mostly.Least users prefer rented bikes in spring.\n",
        " \n",
        " Yulu can provide hourwise discount on specific seasons when customers prefer to go out which may increase the demand.\n",
        "\n",
        "\n",
        "\n",
        " 2)Casual customers' requirement and registered customers' requirement for      rented bike are on different days.\n",
        "\n",
        "   Yulu should add additional benefits so that this gap of rented bikes on working and non working days can be filled.\n",
        "\n",
        "\n",
        "\n",
        " 3)Using 2-Sample T-Test,P-value is greater than alpha that is 0.05.It means that we fail to reject the null hyposthesis. \n",
        "\n",
        "  Bike rental doesn't depend on working day.Yulu may provide subscription to  the customers on working days to increase \n",
        " the demand rate or special discount in office hours.\n",
        " \n",
        "\n",
        " 4)Using Annova Test,we got that the p-value is less than alpha which means that the weather impact the number of bike  rentals.\n",
        "\n",
        " 5)Using Annova Test,p-value is less than alpha and rejected the null hypothesis which clearly proved that the demand of rental bikes is dependent on seasons.\n",
        "\t Yulu should provide offers seasonally .If they provide discount on school holidays or summer vacation then demand may be increased.\n",
        "\n",
        " 6)Using Chi square test,p-value is less than alpha and rejected the null hypthesis .Then we have concluded that weather is dependent on Season.\n",
        " This can be improved by checking the weather forecast before booking for rental bikes."
      ],
      "metadata": {
        "id": "M6E_-7v_rNZ5"
      }
    }
  ]
}